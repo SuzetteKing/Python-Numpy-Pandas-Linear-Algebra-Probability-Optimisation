{
 "cells": [
  {
   "cell_type": "markdown",
   "metadata": {},
   "source": [
    "# Probability and Statistics"
   ]
  },
  {
   "cell_type": "markdown",
   "metadata": {},
   "source": [
    "Let's do some stats with `numpy`! Import `numpy` to get started. Import `matplotlib.pyplot` and `seaborn` too for visualisation."
   ]
  },
  {
   "cell_type": "code",
   "execution_count": 1,
   "metadata": {},
   "outputs": [],
   "source": [
    "# import the libraries\n",
    "import numpy as np\n",
    "import matplotlib.pyplot as plt\n",
    "import seaborn as sns\n",
    "%matplotlib inline\n"
   ]
  },
  {
   "cell_type": "markdown",
   "metadata": {},
   "source": [
    "## Warmup\n",
    "\n",
    "Consider two independent dice rolls, **what is the probability that the product of the numbers is even**?\n",
    "\n",
    "1. Compute the probability manually\n",
    "1. Then perform a simulation and observe the result:\n",
    "    1. set the random seed at `193` for reproducibility\n",
    "    1. using `np.random.randint` you can generate rolls\n",
    "    1. generate 10,000 experiments where you generate two rolls and count how many times the result is even (use `np.mod`, an even number has `np.mod(number, 2) == 0`)\n",
    "    1. does it match? (hint: it should)\n",
    "\n",
    "**Note**: it is much faster to pre-generate all the random-numbers for the experiments rather than generate numbers for each experiment. "
   ]
  },
  {
   "cell_type": "code",
   "execution_count": 2,
   "metadata": {},
   "outputs": [
    {
     "name": "stdout",
     "output_type": "stream",
     "text": [
      "Exact probability: 0.75\n",
      "Empirical probability: 0.752\n"
     ]
    }
   ],
   "source": [
    "# compute the result manually, one way is\n",
    "# to compute all the possible pairs and check!\n",
    "pairs = []\n",
    "# note that range does not take the end boundary so (1, 7) is 1, 2, 3, 4, 5, 6\n",
    "for i in range(1, 7):\n",
    "    for j in range(1, 7):\n",
    "        pairs.append((i, j))\n",
    "\n",
    "s = [np.mod(np.prod(s), 2) == 0 for s in pairs]\n",
    "print(\"Exact probability: {0:.2f}\".format(sum(s) / len(s)))\n",
    "# now do the simulation of 10,000 rolls and compare results\n",
    "np.random.seed(193)\n",
    "n = 10000\n",
    "# generate 2*n numbers between 1 and 6 and shape them as two columns\n",
    "a = np.reshape(np.random.randint(1, 7, 2*n), (n, 2))\n",
    "# compute the products per row and check whether it's even or not\n",
    "r = sum(np.mod(np.prod(a[i, :]), 2) == 0 for i in range(n)) / n\n",
    "print(\"Empirical probability: {0:.3f}\".format(r))\n"
   ]
  },
  {
   "cell_type": "markdown",
   "metadata": {},
   "source": [
    "## Working with realisations (1)\n",
    "\n",
    "* seed the random number generator to `987` (it's good practice not to stick with the same seed)\n",
    "* using `np.random.randint`, generate 1000 random numbers between 1 and 6, this amounts to rolling a die 1000 times\n",
    "* manually compute the mean, median, variance then check with functions from numpy (`np.mean`,`np.median`,`np.var`) remember that:\n",
    "\n",
    "The sample mean is computed as $\\sum_i x_i / n$, the sample variance as $\\sum_i x_i^2/n - (\\sum_i x_i/n)^2$. \n",
    "To get the median, you need to sort the values then pick the middle one. If there is no middle one, you need to take the average of the middle pair (see [wikipedia](https://en.wikipedia.org/wiki/Median)). (**Bonus**: write it as a function and test it)"
   ]
  },
  {
   "cell_type": "code",
   "execution_count": 3,
   "metadata": {},
   "outputs": [
    {
     "name": "stdout",
     "output_type": "stream",
     "text": [
      "Mean (manually): 3.52, numpy: 3.52\n",
      "Var (manually): 2.87, numpy: 2.87\n"
     ]
    }
   ],
   "source": [
    "# seed the random number generator and roll the dice 20 times\n",
    "np.random.seed(987)\n",
    "rolls = np.random.randint(1, high=7, size=1000)\n",
    "# compute the mean and variance manually then using numpy\n",
    "print(\"Mean (manually): {0:.2f}, numpy: {1:.2f}\".format(\n",
    "        sum(rolls)/len(rolls), \n",
    "        np.mean(rolls) ))\n",
    "print(\"Var (manually): {0:.2f}, numpy: {1:.2f}\".format(\n",
    "        sum(rolls**2)/len(rolls)-(sum(rolls)/len(rolls))**2, \n",
    "        np.var(rolls) ))\n"
   ]
  },
  {
   "cell_type": "code",
   "execution_count": 4,
   "metadata": {},
   "outputs": [],
   "source": [
    "# define a function mymed to get the median of a numpy vector\n",
    "def mymed(x):\n",
    "    if len(x) <= 1:\n",
    "        return x\n",
    "    else:\n",
    "        sx = np.sort(x)\n",
    "        if not np.mod(len(x), 2): # length is even\n",
    "            m = (len(x) // 2)\n",
    "            return sum(sx[[m - 1, m]])/2 # compute midpoint\n",
    "        else: # length is odd\n",
    "            return sx[(len(x) + 1) // 2 - 1] # take midpoint\n",
    "# bonus: use numpy.testing.assert_array_equal to test your function\n",
    "np.testing.assert_array_equal(mymed(np.array([])), [])\n",
    "np.testing.assert_array_equal(mymed(np.array([1])), 1)\n",
    "np.testing.assert_array_equal(mymed(np.array([1, 2])), 1.5)\n",
    "np.testing.assert_array_equal(mymed(np.array([1, 2, 3])), 2)\n"
   ]
  },
  {
   "cell_type": "code",
   "execution_count": 5,
   "metadata": {},
   "outputs": [
    {
     "name": "stdout",
     "output_type": "stream",
     "text": [
      "My median: 4.00, numpy: 4.00\n"
     ]
    }
   ],
   "source": [
    "# apply it to your realisations and compare with np.median\n",
    "print(\"My median: {0:.2f}, numpy: {1:.2f}\".format(\n",
    "        mymed(rolls), np.median(rolls) ))\n"
   ]
  },
  {
   "cell_type": "markdown",
   "metadata": {},
   "source": [
    "## Working with realisations (2)"
   ]
  },
  {
   "cell_type": "markdown",
   "metadata": {},
   "source": [
    "* Set the seed to `4378` for reproducibility\n",
    "* Generate 1000 realisations from a Laplace distribution with location parameter set to `1.0` and spread to `2.0` using `np.random.laplace`\n",
    "* Use `sns.distplot` to have a look at the distribution\n",
    "\n",
    "What can you say about the distribution?"
   ]
  },
  {
   "cell_type": "code",
   "execution_count": 6,
   "metadata": {},
   "outputs": [
    {
     "name": "stderr",
     "output_type": "stream",
     "text": [
      "C:\\ProgramData\\Anaconda3\\lib\\site-packages\\matplotlib\\axes\\_axes.py:6462: UserWarning: The 'normed' kwarg is deprecated, and has been replaced by the 'density' kwarg.\n",
      "  warnings.warn(\"The 'normed' kwarg is deprecated, and has been \"\n"
     ]
    },
    {
     "data": {
      "text/plain": [
       "<matplotlib.axes._subplots.AxesSubplot at 0x2e2744fb4a8>"
      ]
     },
     "execution_count": 6,
     "metadata": {},
     "output_type": "execute_result"
    },
    {
     "data": {
      "image/png": "[encoded data removed]",
      "text/plain": [
       "<Figure size 432x288 with 1 Axes>"
      ]
     },
     "metadata": {},
     "output_type": "display_data"
    }
   ],
   "source": [
    "# generate the realisations\n",
    "np.random.seed(4378)\n",
    "mu, lambd, n = 1.0, 2.0, 1000\n",
    "# generate `n` random number using the laplace generator\n",
    "realx = np.random.laplace(loc=mu, scale=lambd, size=n)\n",
    "sns.distplot(realx)\n"
   ]
  }
 ],
 "metadata": {
  "kernelspec": {
   "display_name": "Python 3",
   "language": "python",
   "name": "python3"
  },
  "language_info": {
   "codemirror_mode": {
    "name": "ipython",
    "version": 3
   },
   "file_extension": ".py",
   "mimetype": "text/x-python",
   "name": "python",
   "nbconvert_exporter": "python",
   "pygments_lexer": "ipython3",
   "version": "3.6.5"
  }
 },
 "nbformat": 4,
 "nbformat_minor": 2
}
