{
 "cells": [
  {
   "cell_type": "markdown",
   "metadata": {},
   "source": [
    "# Numpy"
   ]
  },
  {
   "cell_type": "markdown",
   "metadata": {},
   "source": [
    "## Getting started with Numpy\n",
    "\n",
    "Start by loading the `numpy` library (with alias `np`)."
   ]
  },
  {
   "cell_type": "code",
   "execution_count": 1,
   "metadata": {},
   "outputs": [],
   "source": [
    "#import the library\n",
    "import numpy as np"
   ]
  },
  {
   "cell_type": "markdown",
   "metadata": {},
   "source": [
    "## The array object"
   ]
  },
  {
   "cell_type": "markdown",
   "metadata": {},
   "source": [
    "Create out first array `a1` corresponding to the following matrix:\n",
    "\n",
    "$a_1 = \\left(\\begin{array}{ccc}1&2&3&4&5\\\\5&4&3&2&1\\end{array}\\right)$"
   ]
  },
  {
   "cell_type": "code",
   "execution_count": 2,
   "metadata": {},
   "outputs": [
    {
     "data": {
      "text/plain": [
       "array([[1, 2, 3, 4, 5],\n",
       "       [5, 4, 3, 2, 1]])"
      ]
     },
     "execution_count": 2,
     "metadata": {},
     "output_type": "execute_result"
    }
   ],
   "source": [
    "# create and display the array\n",
    "a1 = np.array([[1,2,3,4,5],[5,4,3,2,1]])\n",
    "a1\n"
   ]
  },
  {
   "cell_type": "markdown",
   "metadata": {},
   "source": [
    "Using the attribute `dtype` (data type) of the array, show that Numpy inferred `a1`'s data type as `int64` (64 bit integer)."
   ]
  },
  {
   "cell_type": "code",
   "execution_count": 3,
   "metadata": {},
   "outputs": [
    {
     "data": {
      "text/plain": [
       "dtype('int32')"
      ]
     },
     "execution_count": 3,
     "metadata": {},
     "output_type": "execute_result"
    }
   ],
   "source": [
    "# display the type inferred\n",
    "a1.dtype"
   ]
  },
  {
   "cell_type": "markdown",
   "metadata": {},
   "source": [
    "* What is the shape of the array? \n",
    "* Can you reshape it into a 3x3 array? \n",
    "* how about a 5x2? \n",
    "* In what order does the reshape rearrange elements?"
   ]
  },
  {
   "cell_type": "code",
   "execution_count": 4,
   "metadata": {},
   "outputs": [
    {
     "data": {
      "text/plain": [
       "(2, 5)"
      ]
     },
     "execution_count": 4,
     "metadata": {},
     "output_type": "execute_result"
    }
   ],
   "source": [
    "# your code here\n",
    "a1.shape\n",
    "\n"
   ]
  },
  {
   "cell_type": "code",
   "execution_count": 5,
   "metadata": {},
   "outputs": [],
   "source": [
    "#a1.reshape(3,3) #give an error ValueError: cannot reshape array of size 10 into shape (3,3)"
   ]
  },
  {
   "cell_type": "code",
   "execution_count": 6,
   "metadata": {},
   "outputs": [
    {
     "data": {
      "text/plain": [
       "array([[1, 2],\n",
       "       [3, 4],\n",
       "       [5, 5],\n",
       "       [4, 3],\n",
       "       [2, 1]])"
      ]
     },
     "execution_count": 6,
     "metadata": {},
     "output_type": "execute_result"
    }
   ],
   "source": [
    "a1.reshape(5,2)"
   ]
  },
  {
   "cell_type": "code",
   "execution_count": 7,
   "metadata": {},
   "outputs": [
    {
     "data": {
      "text/plain": [
       "'\\narray([[1, 2],\\n       [3, 4],\\n       [5, 5],\\n       [4, 3],\\n       [2, 1]])\\n'"
      ]
     },
     "execution_count": 7,
     "metadata": {},
     "output_type": "execute_result"
    }
   ],
   "source": [
    "#In what order does the reshape rearrange elements?\n",
    "#numpy unravel the array so it becomes 1,2,3,4,5,5,4,3,2,1\n",
    "#it recombines as \n",
    "\"\"\"\n",
    "array([[1, 2],\n",
    "       [3, 4],\n",
    "       [5, 5],\n",
    "       [4, 3],\n",
    "       [2, 1]])\n",
    "\"\"\""
   ]
  },
  {
   "cell_type": "markdown",
   "metadata": {},
   "source": [
    "Numpy arrays try to infer the most general type that works with the input you've given it. What is the `dtype` of the following examples? run and check!"
   ]
  },
  {
   "cell_type": "code",
   "execution_count": 8,
   "metadata": {},
   "outputs": [
    {
     "name": "stdout",
     "output_type": "stream",
     "text": [
      "bool\n",
      "int32\n",
      "float64\n",
      "<U11\n"
     ]
    }
   ],
   "source": [
    "print(np.array([True, False, False, True]).dtype)\n",
    "print(np.array([1, 2, 5, 1, 2]).dtype)\n",
    "print(np.array([1, 2, 5, 1, 2, 3.0]).dtype)\n",
    "print(np.array([1, 2, 'a', 1, 2]).dtype)"
   ]
  },
  {
   "cell_type": "markdown",
   "metadata": {},
   "source": [
    "What do you think will happen for elementwise operations? \n",
    "Create a simple vector with integer values and another one with floating point values. \n",
    "\n",
    "* make sure the shapes match\n",
    "* add them and check the dtype of the result\n",
    "* multiply them and check the dtype of the results"
   ]
  },
  {
   "cell_type": "code",
   "execution_count": 32,
   "metadata": {},
   "outputs": [
    {
     "data": {
      "text/plain": [
       "array([0., 1., 2.])"
      ]
     },
     "execution_count": 32,
     "metadata": {},
     "output_type": "execute_result"
    }
   ],
   "source": [
    "# your code here\n",
    "a = np.arange(3, dtype=int)\n",
    "b= np.arange(3, dtype=float)\n",
    "a\n",
    "b"
   ]
  },
  {
   "cell_type": "code",
   "execution_count": 10,
   "metadata": {},
   "outputs": [
    {
     "data": {
      "text/plain": [
       "array([0., 1., 4.])"
      ]
     },
     "execution_count": 10,
     "metadata": {},
     "output_type": "execute_result"
    }
   ],
   "source": [
    "a*b"
   ]
  },
  {
   "cell_type": "code",
   "execution_count": 11,
   "metadata": {},
   "outputs": [
    {
     "data": {
      "text/plain": [
       "dtype('float64')"
      ]
     },
     "execution_count": 11,
     "metadata": {},
     "output_type": "execute_result"
    }
   ],
   "source": [
    "(a*b).dtype"
   ]
  },
  {
   "cell_type": "code",
   "execution_count": 12,
   "metadata": {},
   "outputs": [
    {
     "data": {
      "text/plain": [
       "array([0., 2., 4.])"
      ]
     },
     "execution_count": 12,
     "metadata": {},
     "output_type": "execute_result"
    }
   ],
   "source": [
    "a+b"
   ]
  },
  {
   "cell_type": "code",
   "execution_count": 13,
   "metadata": {},
   "outputs": [
    {
     "data": {
      "text/plain": [
       "dtype('float64')"
      ]
     },
     "execution_count": 13,
     "metadata": {},
     "output_type": "execute_result"
    }
   ],
   "source": [
    "\n",
    "(a+b).dtype"
   ]
  },
  {
   "cell_type": "markdown",
   "metadata": {
    "collapsed": true
   },
   "source": [
    "### Array indexing and retrieving entries\n",
    "\n",
    "To access entries for each dimension separated by a comma you can:\n",
    "\n",
    "* give an integer index between `0` and `d-1` and between `-d` and `-1`\n",
    "* give a list or array of valid integers\n",
    "* give a range\n",
    "  * `i:j` from `i` to `j` not included\n",
    "  * `i:` all from `i`\n",
    "  * `:i` all to `i` not included\n",
    "  * `:` everything in that dimension\n",
    "\n",
    "For the array `a1`  that you had created before\n",
    "\n",
    "1. retrieve the first entry of the second row $\\rightarrow$`5`\n",
    "\n",
    "1. retrieve the last entry of the second row $\\rightarrow$ `1`\n",
    "\n",
    "1. retrieve the first column $\\rightarrow$ `[1, 5]`\n",
    "\n",
    "1. retrieve the rightmost 2x2 submatrix $\\rightarrow$ `[[4, 5], [2, 1]]`\n",
    "\n",
    "1. retrieve every second column $\\rightarrow$ `[[1, 3, 5], [5, 3, 1]]` (use `np.arange`)\n",
    "\n",
    "Does the output correspond to what you were expecting?\n",
    "\n",
    "**Remember**: indexing starts at 0 in Python.\n"
   ]
  },
  {
   "cell_type": "code",
   "execution_count": 14,
   "metadata": {},
   "outputs": [
    {
     "data": {
      "text/plain": [
       "5"
      ]
     },
     "execution_count": 14,
     "metadata": {},
     "output_type": "execute_result"
    }
   ],
   "source": [
    "# add your code here to display the solutions\n",
    "#retrieve the first entry of the second row  →→ 5\n",
    "a1[1,0]"
   ]
  },
  {
   "cell_type": "code",
   "execution_count": 15,
   "metadata": {},
   "outputs": [
    {
     "data": {
      "text/plain": [
       "1"
      ]
     },
     "execution_count": 15,
     "metadata": {},
     "output_type": "execute_result"
    }
   ],
   "source": [
    "#retrieve the last entry of the second row  →→  1\n",
    "a1[1,4]"
   ]
  },
  {
   "cell_type": "code",
   "execution_count": 16,
   "metadata": {},
   "outputs": [
    {
     "data": {
      "text/plain": [
       "array([1, 5])"
      ]
     },
     "execution_count": 16,
     "metadata": {},
     "output_type": "execute_result"
    }
   ],
   "source": [
    "#retrieve the first column  →→  [1, 5]\n",
    "a1[:, 0]"
   ]
  },
  {
   "cell_type": "code",
   "execution_count": 17,
   "metadata": {},
   "outputs": [
    {
     "data": {
      "text/plain": [
       "array([[4, 5],\n",
       "       [2, 1]])"
      ]
     },
     "execution_count": 17,
     "metadata": {},
     "output_type": "execute_result"
    }
   ],
   "source": [
    "#retrieve the rightmost 2x2 submatrix  →→  [[4, 5], [2, 1]]\n",
    "a1[:, -2:]"
   ]
  },
  {
   "cell_type": "code",
   "execution_count": 18,
   "metadata": {},
   "outputs": [
    {
     "data": {
      "text/plain": [
       "array([[1, 3, 5],\n",
       "       [5, 3, 1]])"
      ]
     },
     "execution_count": 18,
     "metadata": {},
     "output_type": "execute_result"
    }
   ],
   "source": [
    "#retrieve every second column  →→  [[1, 3, 5], [5, 3, 1]] (use np.arange)\n",
    "a1[:,np.arange(0, a1.shape[1], 2)]"
   ]
  },
  {
   "cell_type": "markdown",
   "metadata": {},
   "source": [
    "### Boolean indexing and functions on arrays\n",
    "\n",
    "Still considering the same array `a1`,\n",
    "\n",
    "* compute the mean of all the values that are smaller than 3\n",
    "  * using the `mean()` method\n",
    "  * using the `sum()` method and the `len()` function\n",
    "* compute the variance of all values smaller than 3\n",
    "  * using the `var()` method\n",
    "  * remembering that the sample variance can be computed as $\\sum_i x_i^2/n - (\\sum_i x_i/n)^2$"
   ]
  },
  {
   "cell_type": "code",
   "execution_count": 47,
   "metadata": {},
   "outputs": [],
   "source": [
    "mask = a1 < 3 #another way to write this is a1[a1<3]\n",
    "l3 = a1[a1<3]"
   ]
  },
  {
   "cell_type": "code",
   "execution_count": 48,
   "metadata": {},
   "outputs": [
    {
     "data": {
      "text/plain": [
       "array([1, 2, 2, 1])"
      ]
     },
     "execution_count": 48,
     "metadata": {},
     "output_type": "execute_result"
    }
   ],
   "source": [
    "l3"
   ]
  },
  {
   "cell_type": "code",
   "execution_count": 49,
   "metadata": {},
   "outputs": [
    {
     "data": {
      "text/plain": [
       "1.5"
      ]
     },
     "execution_count": 49,
     "metadata": {},
     "output_type": "execute_result"
    }
   ],
   "source": [
    "np.mean(a1[mask]) #or\n",
    "l3.mean()"
   ]
  },
  {
   "cell_type": "code",
   "execution_count": 50,
   "metadata": {},
   "outputs": [
    {
     "data": {
      "text/plain": [
       "6"
      ]
     },
     "execution_count": 50,
     "metadata": {},
     "output_type": "execute_result"
    }
   ],
   "source": [
    "np.sum(a1[mask])  #or\n",
    "l3.sum()"
   ]
  },
  {
   "cell_type": "code",
   "execution_count": 51,
   "metadata": {},
   "outputs": [
    {
     "data": {
      "text/plain": [
       "4"
      ]
     },
     "execution_count": 51,
     "metadata": {},
     "output_type": "execute_result"
    }
   ],
   "source": [
    "len(a1[mask]) #or\n",
    "len(l3)"
   ]
  },
  {
   "cell_type": "code",
   "execution_count": 52,
   "metadata": {},
   "outputs": [
    {
     "data": {
      "text/plain": [
       "0.25"
      ]
     },
     "execution_count": 52,
     "metadata": {},
     "output_type": "execute_result"
    }
   ],
   "source": [
    "np.var(a1[mask]) #or\n",
    "l3.var()"
   ]
  },
  {
   "cell_type": "code",
   "execution_count": 54,
   "metadata": {},
   "outputs": [
    {
     "data": {
      "text/plain": [
       "0.25"
      ]
     },
     "execution_count": 54,
     "metadata": {},
     "output_type": "execute_result"
    }
   ],
   "source": [
    "#compute it using the sum notation above\n",
    "np.sum(l3**2)/len(l3) - np.sum((l3)/len(l3))**2"
   ]
  },
  {
   "cell_type": "markdown",
   "metadata": {},
   "source": [
    "### The case of vectors, columns and rows\n",
    "\n",
    "We mentioned that a vector is not the same as a matrix column or a matrix row.\n",
    "Let's see this in practice.\n",
    "\n",
    "* create a simple vector `[1, 2, 3]`\n",
    "* create a column matrix with the same elements\n",
    "* create a row matrix with the same elements\n",
    "\n",
    "try to do a simple operation between these things, what do you see?\n",
    "Fix it using `reshape` or `squeeze`"
   ]
  },
  {
   "cell_type": "code",
   "execution_count": 57,
   "metadata": {},
   "outputs": [
    {
     "data": {
      "text/plain": [
       "array([1, 2, 3])"
      ]
     },
     "execution_count": 57,
     "metadata": {},
     "output_type": "execute_result"
    }
   ],
   "source": [
    "# declare the vector, column and row\n",
    "vec = np.arange(1,4)\n",
    "row = vec.reshape(1,3)\n",
    "col = vec.reshape(3,1)\n",
    "vec\n"
   ]
  },
  {
   "cell_type": "code",
   "execution_count": 58,
   "metadata": {},
   "outputs": [
    {
     "data": {
      "text/plain": [
       "array([[1, 2, 3]])"
      ]
     },
     "execution_count": 58,
     "metadata": {},
     "output_type": "execute_result"
    }
   ],
   "source": [
    "row"
   ]
  },
  {
   "cell_type": "code",
   "execution_count": 59,
   "metadata": {},
   "outputs": [
    {
     "data": {
      "text/plain": [
       "array([[1],\n",
       "       [2],\n",
       "       [3]])"
      ]
     },
     "execution_count": 59,
     "metadata": {},
     "output_type": "execute_result"
    }
   ],
   "source": [
    "col"
   ]
  },
  {
   "cell_type": "code",
   "execution_count": 60,
   "metadata": {},
   "outputs": [
    {
     "data": {
      "text/plain": [
       "array([[2, 4, 6]])"
      ]
     },
     "execution_count": 60,
     "metadata": {},
     "output_type": "execute_result"
    }
   ],
   "source": [
    "# do a simple operation between those and show the results + its shape\n",
    "vec + row"
   ]
  },
  {
   "cell_type": "code",
   "execution_count": 61,
   "metadata": {},
   "outputs": [
    {
     "data": {
      "text/plain": [
       "array([[2, 3, 4],\n",
       "       [3, 4, 5],\n",
       "       [4, 5, 6]])"
      ]
     },
     "execution_count": 61,
     "metadata": {},
     "output_type": "execute_result"
    }
   ],
   "source": [
    "vec + col"
   ]
  },
  {
   "cell_type": "code",
   "execution_count": 62,
   "metadata": {},
   "outputs": [
    {
     "data": {
      "text/plain": [
       "array([[2, 3, 4],\n",
       "       [3, 4, 5],\n",
       "       [4, 5, 6]])"
      ]
     },
     "execution_count": 62,
     "metadata": {},
     "output_type": "execute_result"
    }
   ],
   "source": [
    "row + col"
   ]
  },
  {
   "cell_type": "code",
   "execution_count": 63,
   "metadata": {},
   "outputs": [
    {
     "data": {
      "text/plain": [
       "array([[2, 4, 6]])"
      ]
     },
     "execution_count": 63,
     "metadata": {},
     "output_type": "execute_result"
    }
   ],
   "source": [
    "# use reshape and make all operations output the same result\n",
    "vec + col.reshape(1,3)"
   ]
  },
  {
   "cell_type": "code",
   "execution_count": 64,
   "metadata": {},
   "outputs": [
    {
     "data": {
      "text/plain": [
       "(1, 3)"
      ]
     },
     "execution_count": 64,
     "metadata": {},
     "output_type": "execute_result"
    }
   ],
   "source": [
    "(vec + col.reshape(1,3)).shape"
   ]
  },
  {
   "cell_type": "code",
   "execution_count": 66,
   "metadata": {},
   "outputs": [
    {
     "data": {
      "text/plain": [
       "array([2, 4, 6])"
      ]
     },
     "execution_count": 66,
     "metadata": {},
     "output_type": "execute_result"
    }
   ],
   "source": [
    "(vec + col.reshape(1,3)).squeeze() #transforms it to a one dimensional array"
   ]
  },
  {
   "cell_type": "markdown",
   "metadata": {},
   "source": [
    "### Vector, Matrix, ... Tensors!\n",
    "\n",
    "* The shape of a vector is `(p, )`\n",
    "* The shape of a matrix is `(n, p)`\n",
    "* The shape of a tensor is `(n, p, q, ...)` but where is this useful?\n",
    "\n",
    "Images usually can be thought of as matrices where every entry corresponds to a pixel value.\n",
    "These pixel values have three \"channels\", Red-Green and Blue if the image is in colours.\n",
    "Let's check. \n",
    "\n",
    "Use `imread` from `imageio` to load `data/panda.jpg` and check the shape. You can see a documented example [here](https://imageio.readthedocs.io/en/latest/examples.html#imageio-usage-examples).\n",
    "\n",
    "This will come back to this when we use neural networks to handle images."
   ]
  },
  {
   "cell_type": "code",
   "execution_count": 68,
   "metadata": {},
   "outputs": [],
   "source": [
    "from imageio import imread\n",
    "# add your code to load the image, use ?imread if you want to see the doc\n",
    "img = imread('data/panda.jpg')\n"
   ]
  },
  {
   "cell_type": "markdown",
   "metadata": {},
   "source": [
    "Use matplotlib's method [plt.imshow()](https://matplotlib.org/api/_as_gen/matplotlib.pyplot.imshow.html) to view the image you loaded."
   ]
  },
  {
   "cell_type": "code",
   "execution_count": 72,
   "metadata": {},
   "outputs": [
    {
     "data": {
      "text/plain": [
       "<matplotlib.image.AxesImage at 0x2074d3779e8>"
      ]
     },
     "execution_count": 72,
     "metadata": {},
     "output_type": "execute_result"
    },
    {
     "data": {
      "image/png": "[encoded data removed]",
      "text/plain": [
       "<Figure size 432x288 with 1 Axes>"
      ]
     },
     "metadata": {},
     "output_type": "display_data"
    }
   ],
   "source": [
    "import matplotlib.pyplot as plt\n",
    "# use plt.imshow() to show the image\n",
    "%matplotlib inline  #a jupyter magic command. not really required here as this worked without it\n",
    "plt.imshow(img)"
   ]
  },
  {
   "cell_type": "markdown",
   "metadata": {},
   "source": [
    "## Other numpy methods"
   ]
  },
  {
   "cell_type": "markdown",
   "metadata": {},
   "source": [
    "We'll now explore a few more methods for creating numpy arrays and doing mathematics, such as `np.linspace`, and `np.exp`. As ever, we are expecting you to refer to the documentation; for numpy, you'll find the API reference here: https://docs.scipy.org/doc/numpy/reference/index.html (though simply googling the function will normally get you what you want)"
   ]
  },
  {
   "cell_type": "markdown",
   "metadata": {},
   "source": [
    "### Plotting data\n",
    "As a quick aside, above we imported `matplotlib.pyplot` as `plt`.\n",
    "\n",
    "**Important Note**:\n",
    "\n",
    "* In Jupyter, if you want your plots to display directly in the notebook, you may need to have one cell somewhere with the line `%matplotlib inline` - depending on your default settings\n",
    "* In \"plain Python\", if you want your plots to show, you will need to write `plt.show()` everytime you've defined a plot (not in Jupyter)"
   ]
  },
  {
   "cell_type": "markdown",
   "metadata": {},
   "source": [
    "### plt.plot(), np.linspace(), and mathmatical functions\n",
    "\n",
    "Use [np.linspace](https://docs.scipy.org/doc/numpy/reference/generated/numpy.linspace.html) to create a range of 100 points between -1 and 3. Call that `x` then compute the function $y=\\sin(\\exp(-x^2))$ (use [np.sin](https://docs.scipy.org/doc/numpy-1.10.4/reference/generated/numpy.sin.html) and [np.exp](https://docs.scipy.org/doc/numpy/reference/generated/numpy.exp.html)) and display it using [plt.plot](https://matplotlib.org/api/_as_gen/matplotlib.pyplot.plot.html). \n",
    "\n",
    "Additionally:\n",
    "* using the option `ls` of `plt.plot` specify you want a dashed line\n",
    "* using the option `color` of `plt.plot` specify you want the line to be red\n",
    "* the maximum is attained at $x=0$, show that point on the curve with a black circle (use `marker`)"
   ]
  },
  {
   "cell_type": "code",
   "execution_count": 74,
   "metadata": {},
   "outputs": [
    {
     "data": {
      "text/plain": [
       "[<matplotlib.lines.Line2D at 0x2074d632d30>]"
      ]
     },
     "execution_count": 74,
     "metadata": {},
     "output_type": "execute_result"
    },
    {
     "data": {
      "image/png": "[encoded data removed]",
      "text/plain": [
       "<Figure size 432x288 with 1 Axes>"
      ]
     },
     "metadata": {},
     "output_type": "display_data"
    }
   ],
   "source": [
    "# add your code here to create the x values and the corresponding y values\n",
    "x = np.linspace(-1, 3, 100)\n",
    "y = np.sin(np.exp(-x**2))\n",
    "plt.plot(y) #to explicitly display x values use plt.plot(x,y)"
   ]
  },
  {
   "cell_type": "code",
   "execution_count": 75,
   "metadata": {},
   "outputs": [
    {
     "data": {
      "text/plain": [
       "[<matplotlib.lines.Line2D at 0x2074d68b9e8>]"
      ]
     },
     "execution_count": 75,
     "metadata": {},
     "output_type": "execute_result"
    },
    {
     "data": {
      "image/png": "[encoded data removed]",
      "text/plain": [
       "<Figure size 432x288 with 1 Axes>"
      ]
     },
     "metadata": {},
     "output_type": "display_data"
    }
   ],
   "source": [
    "# add your code here to display the line. Make it dashed and red.\n",
    "plt.plot(x,y, ls= 'dashed', color='red')"
   ]
  },
  {
   "cell_type": "code",
   "execution_count": 77,
   "metadata": {},
   "outputs": [
    {
     "data": {
      "text/plain": [
       "[<matplotlib.lines.Line2D at 0x2074d70d198>]"
      ]
     },
     "execution_count": 77,
     "metadata": {},
     "output_type": "execute_result"
    },
    {
     "data": {
      "image/png": "[encoded data removed]",
      "text/plain": [
       "<Figure size 432x288 with 1 Axes>"
      ]
     },
     "metadata": {},
     "output_type": "display_data"
    }
   ],
   "source": [
    "# in the same cell add your code here to display the maximum, make it a black circle\n",
    "plt.plot(x,y, ls= 'dashed', color='red')\n",
    "plt.plot(0, np.sin(np.exp(0)), marker='o', color='black')\n"
   ]
  },
  {
   "cell_type": "markdown",
   "metadata": {},
   "source": [
    "### A second plot\n",
    "\n",
    "Generate 500 random points in 2D using `np.random.randn` then display those without line (scatter plot). \n",
    "\n",
    "* display the points as small blue dots\n",
    "* make the axis \"equal\" using `plt.axis`\n",
    "* display the mean as a big red dot\n",
    "* Add as title (`plt.title`) \"Visualising random numbers\", make the font size 14 using the option `fontsize`\n",
    "* Call the x-axis \"x-axis\" and same for \"y-axis\" (`plt.xlabel`, `plt.ylabel`)\n",
    "* Add a legend (`plt.legend`) indicating what the different elements are, put it in the bottom-left corner using the `loc` option\n"
   ]
  },
  {
   "cell_type": "code",
   "execution_count": 78,
   "metadata": {},
   "outputs": [
    {
     "data": {
      "text/plain": [
       "array([[ 2.03551874e-01, -9.98151033e-01],\n",
       "       [-2.69322536e-01,  1.12365748e+00],\n",
       "       [ 2.32492803e-01,  1.07151106e+00],\n",
       "       [-9.74077751e-02,  5.74088691e-01],\n",
       "       [-6.76034973e-01, -1.36076314e-01],\n",
       "       [-1.88529828e+00, -1.88311092e+00],\n",
       "       [ 1.18687978e+00,  1.90943198e+00],\n",
       "       [ 5.20316865e-01,  1.34992379e+00],\n",
       "       [-1.46262766e+00, -4.40834846e-01],\n",
       "       [-4.12387787e-01, -5.91142521e-01],\n",
       "       [ 1.08427794e+00,  1.03334884e+00],\n",
       "       [-7.15928409e-01,  3.23895505e-01],\n",
       "       [ 3.92813632e-01,  7.78190127e-02],\n",
       "       [-5.20810568e-01, -3.27339430e-01],\n",
       "       [-4.30926898e-01, -6.25860565e-01],\n",
       "       [ 1.76135435e-01, -6.04559646e-01],\n",
       "       [ 9.57962332e-01, -1.02696710e-01],\n",
       "       [-6.60267962e-01,  4.73299985e-01],\n",
       "       [ 5.40908511e-01, -6.35319320e-02],\n",
       "       [-8.48121793e-01,  5.25745410e-01],\n",
       "       [ 2.75324373e-01,  8.46376610e-02],\n",
       "       [-1.62549652e-01,  4.25404479e-01],\n",
       "       [ 8.26504502e-01,  1.03304702e+00],\n",
       "       [ 1.15780984e+00,  8.99994137e-01],\n",
       "       [ 3.15577944e-02,  1.11664148e+00],\n",
       "       [-2.02760612e-01,  4.68625489e-01],\n",
       "       [-2.01747843e-01, -1.02364662e+00],\n",
       "       [-2.27074085e-01,  6.86252944e-02],\n",
       "       [ 2.37504464e-01,  1.20761030e+00],\n",
       "       [-3.51077389e-01, -6.26443262e-01],\n",
       "       [ 4.21069858e-01,  9.01047246e-01],\n",
       "       [ 1.85914880e+00,  1.63731371e+00],\n",
       "       [-1.99604152e+00,  5.18061164e-01],\n",
       "       [ 1.51377774e-01, -8.72474808e-01],\n",
       "       [-1.44057149e+00,  7.45127662e-01],\n",
       "       [-1.81822398e+00, -1.43764292e+00],\n",
       "       [-2.22168394e+00, -8.77406485e-01],\n",
       "       [-9.00634069e-01,  1.24871059e+00],\n",
       "       [ 1.93388292e-01,  1.69916510e+00],\n",
       "       [ 6.00953885e-01,  2.38062685e+00],\n",
       "       [-1.18185530e+00,  5.59853560e-01],\n",
       "       [ 3.90493824e-01,  1.24349245e-01],\n",
       "       [-1.76241445e+00,  1.91972598e-01],\n",
       "       [ 1.00119502e+00,  1.38482128e-01],\n",
       "       [ 2.11936936e+00,  4.12823253e-01],\n",
       "       [-3.79077811e-01,  1.83106127e+00],\n",
       "       [-5.66755927e-02, -1.35708451e+00],\n",
       "       [-1.63713173e+00, -4.67047673e-01],\n",
       "       [ 4.28201720e-01, -8.78604504e-01],\n",
       "       [ 8.07221305e-01, -1.28037650e+00],\n",
       "       [ 4.19229475e-01, -1.85079976e+00],\n",
       "       [-6.43944272e-01,  3.68006468e-01],\n",
       "       [ 6.71852563e-01,  6.39182961e-01],\n",
       "       [-3.49910341e-01, -2.04997431e-01],\n",
       "       [ 2.71170288e-01,  1.24360269e+00],\n",
       "       [ 1.95219904e-02,  2.03600523e+00],\n",
       "       [-1.51460381e+00, -7.39035369e-01],\n",
       "       [-2.80461052e-01, -1.81573938e+00],\n",
       "       [-1.44840723e+00, -9.98273772e-01],\n",
       "       [ 5.99960485e-01, -2.83068414e-01],\n",
       "       [-4.35351666e-01, -7.43261054e-01],\n",
       "       [-7.22859178e-01,  1.25145828e+00],\n",
       "       [-1.66735481e-01, -5.23943660e-01],\n",
       "       [ 1.48756756e+00,  1.08510171e+00],\n",
       "       [ 5.99539130e-01, -3.04087028e+00],\n",
       "       [-3.06906842e-02, -5.37005343e-01],\n",
       "       [-4.94622178e-01,  3.59318004e-01],\n",
       "       [-5.35391549e-02,  8.24737579e-01],\n",
       "       [-1.66845034e+00,  1.81565583e+00],\n",
       "       [ 2.81226641e-01, -1.47866726e+00],\n",
       "       [-2.69885218e+00,  1.56415537e+00],\n",
       "       [ 1.06173362e-01, -3.67801568e-01],\n",
       "       [ 2.54338952e-01, -9.77484573e-01],\n",
       "       [ 7.92337792e-01, -5.55907368e-02],\n",
       "       [ 5.19497795e-01,  6.17608159e-01],\n",
       "       [ 9.94172838e-01,  4.84026533e-01],\n",
       "       [-9.51226170e-01, -1.10350862e+00],\n",
       "       [ 3.69108831e-01,  1.57634381e-01],\n",
       "       [-1.17845122e+00,  5.07663536e-01],\n",
       "       [ 9.21094350e-01, -7.77344582e-01],\n",
       "       [ 5.19971536e-01,  1.31477700e+00],\n",
       "       [-6.08575402e-01,  1.10498824e+00],\n",
       "       [-9.02767477e-01, -4.01502261e-01],\n",
       "       [-1.70983117e+00, -1.21175332e-01],\n",
       "       [ 3.76277378e-01, -1.09368744e+00],\n",
       "       [ 8.78465703e-01, -6.29102436e-01],\n",
       "       [ 1.61204926e+00,  5.90285446e-01],\n",
       "       [-2.10580988e+00, -1.76049565e+00],\n",
       "       [ 9.34826306e-01, -1.77255622e+00],\n",
       "       [ 1.28048872e-01, -5.50861848e-01],\n",
       "       [-5.77009663e-01, -6.95071507e-01],\n",
       "       [-7.72677159e-01,  5.78512819e-01],\n",
       "       [ 5.79348104e-01, -2.32198623e+00],\n",
       "       [-5.59434822e-01, -1.77043873e+00],\n",
       "       [ 7.29030998e-02,  1.84820075e+00],\n",
       "       [-6.39259053e-01,  1.49784257e+00],\n",
       "       [ 2.31609670e-01, -6.53776180e-01],\n",
       "       [-8.80832839e-01, -1.47701380e+00],\n",
       "       [ 1.13882214e+00,  7.49743685e-01],\n",
       "       [-5.01390901e-01,  5.41051027e-01],\n",
       "       [-1.10728950e+00,  9.46581882e-02],\n",
       "       [ 2.63434868e+00, -4.11908608e-01],\n",
       "       [ 8.40172483e-02,  1.05746021e+00],\n",
       "       [ 5.46367013e-02,  6.21093892e-01],\n",
       "       [-1.33029757e+00, -8.06699038e-01],\n",
       "       [ 2.26581951e+00,  2.91296234e-01],\n",
       "       [-9.82312359e-01,  3.36794517e-01],\n",
       "       [ 3.46067539e-01,  1.62895948e+00],\n",
       "       [-1.04660904e+00, -1.70472579e+00],\n",
       "       [-1.01626120e-01,  1.25179356e-01],\n",
       "       [-6.84550333e-02,  5.92833101e-01],\n",
       "       [ 1.17867213e+00,  1.02782690e+00],\n",
       "       [ 3.66315936e-02,  1.70758610e+00],\n",
       "       [-1.34593585e+00,  6.22169758e-01],\n",
       "       [-8.30360565e-01, -5.88174451e-01],\n",
       "       [-3.06598078e-01, -1.32939430e-01],\n",
       "       [-2.27133283e+00,  8.00571341e-01],\n",
       "       [-1.07745548e+00,  1.02551775e+00],\n",
       "       [-6.76136984e-01, -1.98842571e+00],\n",
       "       [-6.36328289e-01,  9.13660670e-01],\n",
       "       [-1.38128701e+00, -2.69857339e-01],\n",
       "       [ 6.75770422e-01, -6.36533372e-01],\n",
       "       [-4.17575279e-01,  1.23198539e+00],\n",
       "       [-9.38988397e-01, -1.74091197e+00],\n",
       "       [-3.18273753e-01,  4.53690756e-02],\n",
       "       [ 1.72715714e+00,  4.55702641e-01],\n",
       "       [ 1.49527167e+00,  1.93762630e+00],\n",
       "       [-7.08188055e-01,  7.90266849e-01],\n",
       "       [-3.88234623e-01, -9.73718880e-02],\n",
       "       [-9.06684736e-01, -1.37005251e+00],\n",
       "       [-1.33572779e-02,  2.60920650e-02],\n",
       "       [-2.86305617e-02, -1.15799793e+00],\n",
       "       [ 8.13047042e-01, -9.74383098e-01],\n",
       "       [ 3.79068863e-01,  9.16845001e-01],\n",
       "       [-1.13482315e+00,  7.20519325e-01],\n",
       "       [ 4.50743524e-01,  3.13908452e-01],\n",
       "       [-7.74356359e-01,  1.51707501e-01],\n",
       "       [ 1.48769068e+00, -1.01719023e+00],\n",
       "       [ 1.30236112e+00, -8.48958226e-01],\n",
       "       [ 1.24061353e+00,  5.77605032e-01],\n",
       "       [-1.73657638e+00, -1.79678004e-01],\n",
       "       [ 5.90120819e-01, -2.59213850e-01],\n",
       "       [-9.41295215e-01,  6.19495095e-01],\n",
       "       [ 7.53534271e-01,  7.53003342e-01],\n",
       "       [-7.61711897e-01, -4.93494164e-01],\n",
       "       [-6.84077896e-01, -2.26323195e-01],\n",
       "       [ 9.19943646e-01, -7.27245205e-01],\n",
       "       [ 9.99882840e-01, -2.81508359e-01],\n",
       "       [-5.35193217e-01,  8.86454238e-02],\n",
       "       [-7.19360286e-01, -2.90729453e-01],\n",
       "       [ 1.00729604e+00, -4.95498260e-01],\n",
       "       [-6.29432913e-01, -4.11663380e-01],\n",
       "       [-6.22821023e-01,  1.24812652e+00],\n",
       "       [-1.22083923e+00,  3.06096586e-01],\n",
       "       [-8.74152001e-01,  5.31444716e-02],\n",
       "       [-1.40288731e+00,  5.85494096e-01],\n",
       "       [-5.03379762e-01,  5.41882134e-01],\n",
       "       [-2.98201026e-01,  9.54917715e-01],\n",
       "       [ 3.64024505e-01, -1.74460728e+00],\n",
       "       [ 7.93174472e-01,  3.76716864e-01],\n",
       "       [ 2.06794924e-01,  5.38960598e-01],\n",
       "       [ 8.80592028e-01,  1.20011312e+00],\n",
       "       [-1.12368626e+00, -9.51186052e-01],\n",
       "       [-9.62274692e-02, -1.07338112e+00],\n",
       "       [-3.32037745e-01, -6.10878520e-01],\n",
       "       [-1.95057011e+00,  5.31285625e-01],\n",
       "       [-2.25288244e+00, -1.68740671e+00],\n",
       "       [-1.39292766e+00, -6.60297328e-01],\n",
       "       [-5.51207459e-01,  1.60631208e+00],\n",
       "       [-4.28825125e-01, -1.40267845e+00],\n",
       "       [ 2.51790734e-01, -4.75544163e-01],\n",
       "       [-8.98243704e-01,  9.84122735e-01],\n",
       "       [ 1.32548185e+00,  1.58656272e+00],\n",
       "       [-4.80691999e-01, -5.66666269e-01],\n",
       "       [ 3.64829363e-01, -2.51179478e-01],\n",
       "       [-3.08554116e-01,  4.98733381e-01],\n",
       "       [-2.11149084e+00, -1.37373857e+00],\n",
       "       [ 5.53609048e-01, -7.94985314e-01],\n",
       "       [ 7.67245923e-01, -1.77659568e+00],\n",
       "       [-1.61561385e-01, -8.57883095e-01],\n",
       "       [-1.12770437e+00,  1.41939161e+00],\n",
       "       [ 6.01200772e-01,  7.18782667e-01],\n",
       "       [ 1.84965225e+00, -1.37926697e+00],\n",
       "       [ 4.37559696e-01,  9.55084609e-01],\n",
       "       [ 2.03364202e+00,  1.64225280e-01],\n",
       "       [ 7.24122955e-01,  2.65496783e-01],\n",
       "       [ 9.85411803e-01,  2.88658362e-02],\n",
       "       [ 2.42359278e-01, -1.50661302e+00],\n",
       "       [ 8.14310427e-02, -4.34731047e-01],\n",
       "       [-8.87027498e-01, -2.60086227e-01],\n",
       "       [ 1.15049095e+00, -4.94482452e-01],\n",
       "       [ 1.46292306e+00, -2.67875693e-01],\n",
       "       [ 5.17725402e-01, -1.28088426e+00],\n",
       "       [ 1.44652789e+00,  7.04970101e-01],\n",
       "       [ 6.95010072e-01,  5.57169002e-01],\n",
       "       [-5.11365978e-01, -5.84322632e-01],\n",
       "       [ 7.88349149e-01, -1.04145313e+00],\n",
       "       [-1.45753315e+00, -4.23293475e-01],\n",
       "       [ 8.89109934e-01,  2.27138297e-01],\n",
       "       [-2.66249703e-01, -4.52921055e-01],\n",
       "       [ 3.60173409e-01, -8.57126296e-01],\n",
       "       [ 1.01275177e+00,  2.11573558e-01],\n",
       "       [ 5.36385908e-01, -8.08002908e-01],\n",
       "       [-8.31230647e-01,  2.33045899e+00],\n",
       "       [ 8.50870690e-01,  2.54023621e-01],\n",
       "       [-1.23879588e+00,  1.93583889e-01],\n",
       "       [-7.73109533e-01,  2.15247083e-01],\n",
       "       [-1.26496121e+00,  1.49940429e-01],\n",
       "       [-1.94382677e+00, -5.57098425e-01],\n",
       "       [ 5.25960114e-01,  2.64463239e-02],\n",
       "       [ 7.35826730e-01,  6.09974481e-01],\n",
       "       [-2.29227627e-01, -5.97791952e-01],\n",
       "       [ 4.03886021e-01,  9.76832351e-02],\n",
       "       [-6.88660792e-01,  4.00230490e-01],\n",
       "       [-2.03755269e+00, -5.19014839e-01],\n",
       "       [-1.53659154e+00,  1.30634986e+00],\n",
       "       [ 1.25162439e+00, -1.01046120e+00],\n",
       "       [-1.43905229e+00,  6.16205318e-01],\n",
       "       [ 6.43883491e-01, -2.30629290e+00],\n",
       "       [-5.97475694e-02, -6.68373927e-01],\n",
       "       [ 1.40282842e+00,  1.60639305e+00],\n",
       "       [-7.89535886e-01, -1.06665672e+00],\n",
       "       [ 6.98859200e-01, -4.45703997e-01],\n",
       "       [-1.78263148e-01, -2.82257620e-01],\n",
       "       [-1.07923453e+00,  9.71422869e-01],\n",
       "       [ 4.77582483e-01, -1.45208788e+00],\n",
       "       [-6.93371465e-01, -1.55216157e+00],\n",
       "       [-5.09728495e-01, -1.04957970e+00],\n",
       "       [-1.70023181e+00,  1.29273148e+00],\n",
       "       [ 2.24625699e+00, -8.26159249e-01],\n",
       "       [-8.22026154e-01,  4.85343500e-01],\n",
       "       [ 7.33121737e-01,  3.94682543e-01],\n",
       "       [ 1.07045426e+00, -1.70365742e+00],\n",
       "       [-7.50334801e-01, -1.00289949e+00],\n",
       "       [-6.99401186e-01,  1.49610467e+00],\n",
       "       [-4.01260614e-01, -9.37071787e-01],\n",
       "       [-2.89924191e-01,  2.83353084e-01],\n",
       "       [-2.39507094e-01, -5.79821693e-01],\n",
       "       [-2.82485586e-01, -1.96843146e+00],\n",
       "       [-4.12459796e-01, -1.02541214e-01],\n",
       "       [ 1.05591364e+00, -9.14082204e-01],\n",
       "       [-1.34340551e+00,  1.41245089e+00],\n",
       "       [ 3.20259343e+00,  1.37688670e+00],\n",
       "       [ 2.59895191e-02, -1.56670398e+00],\n",
       "       [ 5.66466981e-01,  3.23486165e-01],\n",
       "       [ 8.21175423e-02, -7.77669579e-01],\n",
       "       [ 1.38376385e+00, -7.38771924e-01],\n",
       "       [ 8.88279912e-01,  3.86160623e-01],\n",
       "       [ 2.79971072e-01, -1.30314474e+00],\n",
       "       [-1.38648520e+00,  7.10060029e-02],\n",
       "       [-2.02902263e+00, -6.43531759e-02],\n",
       "       [-2.96255007e-01, -7.29804440e-01],\n",
       "       [ 3.51315420e-01,  4.59150448e-01],\n",
       "       [ 2.03457082e+00,  1.14623544e+00],\n",
       "       [-2.17341043e-01, -8.74069856e-01],\n",
       "       [ 1.16047026e+00,  8.90570594e-01],\n",
       "       [ 8.26216906e-01,  1.02364421e+00],\n",
       "       [ 2.55684754e-01, -9.97228606e-02],\n",
       "       [-5.17000023e-01,  1.04142800e+00],\n",
       "       [ 2.70235114e-01, -6.51348662e-02],\n",
       "       [ 1.63772627e+00,  7.28021925e-01],\n",
       "       [ 3.13802657e-01,  3.48806704e-01],\n",
       "       [-1.74929953e-01,  5.75529602e-01],\n",
       "       [ 3.95161052e-01,  8.07393953e-01],\n",
       "       [ 5.18588223e-01, -3.19877690e+00],\n",
       "       [ 1.69891871e-01,  2.27543630e+00],\n",
       "       [ 1.21401274e+00,  1.29998900e+00],\n",
       "       [-1.02766007e+00, -4.22479251e-01],\n",
       "       [-1.94800383e+00, -6.40317177e-01],\n",
       "       [-5.90266446e-01,  1.55749016e-01],\n",
       "       [ 4.30907435e-01, -1.12537073e+00],\n",
       "       [ 7.25696482e-02,  1.37280156e+00],\n",
       "       [ 9.97046876e-01, -2.32821948e+00],\n",
       "       [ 7.64939215e-01,  3.08845817e-01],\n",
       "       [-6.06321661e-01,  1.01930853e+00],\n",
       "       [ 9.65452030e-01,  6.12499525e-01],\n",
       "       [ 4.15809421e-01,  4.78822053e-01],\n",
       "       [ 9.10643482e-01, -1.16717185e+00],\n",
       "       [ 2.48836947e-01,  7.30710399e-02],\n",
       "       [-9.32189936e-01, -8.12466034e-01],\n",
       "       [ 9.52124507e-01,  3.84985699e-01],\n",
       "       [ 9.51213685e-02,  1.03888252e+00],\n",
       "       [-9.39601562e-03,  3.05773332e-01],\n",
       "       [-4.72490378e-01, -6.61910452e-01],\n",
       "       [ 1.32068295e+00, -1.43897320e+00],\n",
       "       [-1.32262859e-01, -6.23212801e-01],\n",
       "       [ 9.61319894e-01, -9.68934193e-01],\n",
       "       [ 6.12606975e-01, -1.60885726e-01],\n",
       "       [-1.20357250e+00,  3.29813081e-01],\n",
       "       [ 5.73496081e-01,  2.04587313e-01],\n",
       "       [ 1.41727176e+00, -1.12497710e+00],\n",
       "       [ 8.92055710e-02, -1.16326947e+00],\n",
       "       [-1.85752131e-01, -5.26433303e-01],\n",
       "       [-8.15502708e-01,  5.91558148e-01],\n",
       "       [-5.88545870e-01, -1.52110712e+00],\n",
       "       [ 1.67364301e-01, -1.34317414e+00],\n",
       "       [ 1.23362961e-01, -5.38018168e-01],\n",
       "       [-1.35903775e+00,  4.92075437e-01],\n",
       "       [-8.94788032e-01, -3.71661985e-01],\n",
       "       [-1.06067319e+00, -2.37454957e+00],\n",
       "       [ 1.36744630e+00, -1.02093061e-01],\n",
       "       [-5.63629412e-01, -1.75844568e+00],\n",
       "       [-5.95452834e-01, -7.14555864e-01],\n",
       "       [ 5.35677245e-02,  1.30608637e+00],\n",
       "       [-7.89196956e-01, -6.54979592e-01],\n",
       "       [-3.59179847e-01,  5.02557980e-01],\n",
       "       [ 9.90839085e-01,  3.13069184e-01],\n",
       "       [ 9.65790767e-01,  4.63145312e-01],\n",
       "       [-2.92084933e-01,  7.70193283e-01],\n",
       "       [ 1.62429161e+00,  1.28021810e+00],\n",
       "       [-1.43391317e-01,  8.91558610e-01],\n",
       "       [-6.31177077e-01, -1.16405060e+00],\n",
       "       [-8.64379726e-02,  1.12392434e+00],\n",
       "       [ 5.93280128e-01, -2.54968115e-02],\n",
       "       [-1.65147415e+00,  1.54244371e+00],\n",
       "       [ 8.59026242e-01,  3.43418583e-01],\n",
       "       [ 9.08943071e-01, -5.96044187e-01],\n",
       "       [-7.43078327e-01, -5.78455216e-01],\n",
       "       [-9.88578201e-01, -1.10117985e+00],\n",
       "       [ 2.42992128e+00, -1.76200653e+00],\n",
       "       [-1.29371876e+00,  1.92781230e-01],\n",
       "       [ 1.28435964e+00, -7.44538849e-01],\n",
       "       [-3.12445202e+00,  5.85546737e-01],\n",
       "       [ 3.99146977e-01, -3.13482469e-02],\n",
       "       [-1.87841944e+00, -5.04476388e-01],\n",
       "       [-1.49953912e+00, -1.24293862e+00],\n",
       "       [ 1.82140671e+00,  9.76545491e-01],\n",
       "       [ 5.28426785e-01, -1.01077880e-01],\n",
       "       [-2.85494447e-01, -1.49197429e+00],\n",
       "       [ 5.03261689e-01,  4.17635619e-01],\n",
       "       [ 3.17672216e-01, -8.51822552e-01],\n",
       "       [-8.09575701e-01,  7.76787911e-01],\n",
       "       [ 8.95926075e-01,  3.80286543e-01],\n",
       "       [-1.41260617e-01, -1.72879196e-01],\n",
       "       [-2.29380427e-01,  1.68044038e-01],\n",
       "       [ 3.09085904e+00,  1.50526148e-01],\n",
       "       [-3.42896224e-02,  9.07719834e-02],\n",
       "       [ 8.77579770e-01, -1.41564469e+00],\n",
       "       [ 3.97322667e-01, -1.04828072e+00],\n",
       "       [ 9.97925986e-01, -4.98605602e-01],\n",
       "       [-8.96706429e-01,  2.21637455e+00],\n",
       "       [-1.05896818e+00,  1.63585907e+00],\n",
       "       [-1.16983388e+00,  3.07380339e-01],\n",
       "       [-1.24823219e+00,  7.74510214e-01],\n",
       "       [-3.50298060e-01,  2.33661064e-01],\n",
       "       [ 1.02789871e+00,  2.49013738e-01],\n",
       "       [-1.44868358e+00,  6.32810700e-01],\n",
       "       [ 6.43730720e-01, -8.28438575e-01],\n",
       "       [-4.55046169e-01, -6.03502890e-01],\n",
       "       [ 3.10360777e-01, -3.40099859e-01],\n",
       "       [ 6.58993333e-01,  8.47735933e-01],\n",
       "       [-2.62024882e+00,  6.85517419e-01],\n",
       "       [ 2.44215145e+00, -8.80139243e-01],\n",
       "       [-4.27530512e-01,  1.32200426e-01],\n",
       "       [ 1.00452981e+00, -1.65972570e+00],\n",
       "       [-8.81600618e-01, -9.37586077e-01],\n",
       "       [-9.78664990e-01, -3.79093215e-01],\n",
       "       [ 6.83685646e-01, -6.72191465e-01],\n",
       "       [-9.93131949e-01, -1.28399605e+00],\n",
       "       [ 1.16933175e+00, -1.63992601e+00],\n",
       "       [ 2.65960900e-01,  1.02647833e+00],\n",
       "       [ 4.77871514e-01, -1.28161583e+00],\n",
       "       [-4.39847261e-01, -6.69336670e-01],\n",
       "       [-1.12747942e+00,  1.22327846e+00],\n",
       "       [-6.35302171e-01, -5.28859258e-01],\n",
       "       [-1.04737302e+00,  9.03948275e-01],\n",
       "       [ 4.32606135e-01, -1.58854121e+00],\n",
       "       [ 6.53784081e-04,  9.94047411e-01],\n",
       "       [ 1.96749162e-01, -1.49935741e+00],\n",
       "       [-4.55466938e-01,  2.11495818e-01],\n",
       "       [ 5.16977805e-01,  4.32310009e-01],\n",
       "       [-3.46059789e-01, -2.25143037e-01],\n",
       "       [-1.42046893e+00, -5.18551622e-01],\n",
       "       [-3.74467572e-01,  1.36244267e+00],\n",
       "       [-1.11318610e-01, -1.84488569e+00],\n",
       "       [ 9.52189484e-02,  1.72877184e+00],\n",
       "       [-5.30133266e-01,  5.12553533e-01],\n",
       "       [-9.76983063e-02,  1.19460699e+00],\n",
       "       [ 4.83415520e-01, -1.40230474e+00],\n",
       "       [ 2.07796487e+00,  8.25562287e-01],\n",
       "       [-1.55886228e+00, -7.77795357e-01],\n",
       "       [-7.47179521e-01,  1.21594316e-01],\n",
       "       [-1.43526994e+00,  7.52152165e-01],\n",
       "       [ 1.43425784e+00,  8.14300425e-01],\n",
       "       [-1.17640314e+00,  1.35141749e+00],\n",
       "       [-1.16222551e+00, -1.66345366e+00],\n",
       "       [ 5.43009146e-01,  9.02364045e-02],\n",
       "       [-5.53541206e-01, -1.03583134e+00],\n",
       "       [ 1.33556708e-01,  2.87048670e-02],\n",
       "       [-6.81713700e-01,  2.05842276e+00],\n",
       "       [ 2.47928029e-01, -1.36379419e+00],\n",
       "       [-1.17268057e-01, -3.69419688e-01],\n",
       "       [-4.82714489e-01, -5.38341595e-01],\n",
       "       [ 1.93224504e-01, -7.29215085e-01],\n",
       "       [-1.05376408e+00,  6.83280048e-01],\n",
       "       [ 5.64606542e-01,  3.37587950e-01],\n",
       "       [-5.88123187e-01,  7.36649754e-01],\n",
       "       [-3.78814595e-02, -3.58795775e-02],\n",
       "       [ 2.69133192e-01, -2.88050690e-01],\n",
       "       [-9.35055114e-01,  5.73374066e-01],\n",
       "       [ 2.02094904e+00,  1.99275145e+00],\n",
       "       [-1.47542315e-01, -1.08763747e+00],\n",
       "       [-5.68912985e-01, -1.72056124e-01],\n",
       "       [ 2.03065790e+00,  2.95946142e-01],\n",
       "       [-8.02673904e-01,  1.55598513e+00],\n",
       "       [ 1.18977394e+00, -9.04020891e-01],\n",
       "       [ 7.09758414e-01, -7.36311155e-01],\n",
       "       [ 6.24421264e-01,  1.96444841e-01],\n",
       "       [ 6.12620809e-02, -1.02939970e+00],\n",
       "       [ 1.42501324e+00, -1.24637197e+00],\n",
       "       [ 7.97076631e-01,  2.46930961e-02],\n",
       "       [ 1.15505412e+00,  1.48447411e-01],\n",
       "       [-1.33217866e+00, -5.15844923e-01],\n",
       "       [ 1.27944481e-01, -4.05132489e-01],\n",
       "       [-3.62088830e-01, -6.66557506e-01],\n",
       "       [ 7.38816021e-02,  3.40389171e-01],\n",
       "       [-1.02908385e+00, -6.88899465e-01],\n",
       "       [-1.74407038e-01, -2.89061838e-01],\n",
       "       [ 4.61401908e-01, -1.60423323e+00],\n",
       "       [ 6.56636653e-01,  1.23175872e-01],\n",
       "       [ 1.34714563e-01,  4.29567874e-01],\n",
       "       [-2.55892751e-01,  1.14919092e+00],\n",
       "       [-3.34722021e-01, -1.89860045e-01],\n",
       "       [ 7.92208197e-01, -1.80535695e+00],\n",
       "       [-8.40060771e-01, -1.45901289e-01],\n",
       "       [ 4.83713214e-01, -1.12762520e+00],\n",
       "       [-7.64480290e-02, -1.48407058e+00],\n",
       "       [-4.36561104e-01,  8.44665143e-01],\n",
       "       [-9.76300031e-01, -2.00944046e+00],\n",
       "       [-1.46832167e+00, -1.22003865e+00],\n",
       "       [ 1.47043335e-01,  1.21932894e-01],\n",
       "       [ 1.55582264e+00, -3.71245213e-01],\n",
       "       [-8.89269618e-01,  2.17759907e-01],\n",
       "       [-2.16953928e-01, -1.26560874e+00],\n",
       "       [ 3.75609203e-02, -2.32071261e-01],\n",
       "       [-8.32176118e-01, -3.13769279e-01],\n",
       "       [-5.14533528e-01,  8.70487287e-01],\n",
       "       [-7.79653026e-01, -6.07266870e-02],\n",
       "       [-6.24259620e-01, -9.84823041e-01],\n",
       "       [-1.76688385e+00,  2.27492357e-01],\n",
       "       [-8.22119090e-02,  3.76516818e-01],\n",
       "       [-2.09320915e-01,  3.92322955e-01],\n",
       "       [ 4.08354031e-02,  1.90490715e+00],\n",
       "       [-2.83554381e-01, -5.67794589e-01],\n",
       "       [ 1.63461499e+00,  7.24737687e-01],\n",
       "       [ 1.27807262e+00, -8.24367403e-01],\n",
       "       [ 7.39541750e-01, -1.02206929e+00],\n",
       "       [ 7.62578693e-01,  1.26166107e-01],\n",
       "       [ 1.00369878e+00, -2.82859798e-01],\n",
       "       [-1.39705582e-01, -1.73099854e-01],\n",
       "       [ 4.04790437e-02,  6.56289569e-01],\n",
       "       [-6.93543850e-01, -1.34227662e-01],\n",
       "       [-2.81868075e-02, -4.32536985e-01],\n",
       "       [ 3.58677552e-02, -6.66836691e-01],\n",
       "       [-9.09813552e-01, -2.40175057e-02],\n",
       "       [-3.50069186e-01, -7.33062831e-01],\n",
       "       [-1.08896633e+00,  6.45849611e-01],\n",
       "       [-9.36498723e-01, -7.73859395e-01],\n",
       "       [-7.71290424e-01,  3.88090084e-01],\n",
       "       [-8.29560394e-01, -1.55926934e-01],\n",
       "       [ 3.97078134e-02,  1.24350369e+00],\n",
       "       [-1.72371902e+00, -1.09020461e+00],\n",
       "       [-2.17554139e+00, -2.22513646e-01],\n",
       "       [ 7.31453021e-01, -5.16541797e-01],\n",
       "       [ 1.27694780e-01,  1.41259013e+00],\n",
       "       [ 1.02479570e+00,  1.45134960e+00],\n",
       "       [ 3.52389293e-01, -5.89126455e-01],\n",
       "       [-1.96221036e+00,  3.42203733e-01],\n",
       "       [-9.06902196e-01, -1.72757473e-01],\n",
       "       [-2.04628927e+00,  8.03581875e-02],\n",
       "       [ 4.06069358e-01,  1.25431964e+00],\n",
       "       [-1.24099617e+00, -6.48557808e-01],\n",
       "       [ 1.33900278e+00,  8.34794447e-02],\n",
       "       [ 1.00664485e+00,  1.17321179e+00],\n",
       "       [ 7.33560568e-01, -2.57861347e+00],\n",
       "       [ 4.21255300e-02, -6.67172820e-01],\n",
       "       [-4.15134280e-01, -3.00788114e-01],\n",
       "       [ 1.59693009e+00, -9.05617036e-01],\n",
       "       [ 1.88051660e-01,  1.23577087e+00],\n",
       "       [ 2.26061155e-01, -1.21857751e+00],\n",
       "       [-1.32570851e+00, -1.21003732e+00],\n",
       "       [ 1.03332590e+00,  1.50045072e+00],\n",
       "       [ 1.85794474e+00, -8.83800239e-02],\n",
       "       [ 1.23894019e+00,  1.58381011e-01],\n",
       "       [-2.78549318e-01,  1.46703685e+00],\n",
       "       [ 6.44439068e-01,  5.06017266e-01],\n",
       "       [ 5.45244178e-01,  1.11359828e+00],\n",
       "       [-3.06097807e-01, -1.77220001e+00],\n",
       "       [ 5.65094684e-01, -2.16622129e-01],\n",
       "       [ 7.42294992e-02,  4.54616941e-01],\n",
       "       [-3.82899123e-02,  6.62587681e-01],\n",
       "       [-2.17510847e-01,  2.34793298e+00],\n",
       "       [ 2.10672358e+00, -4.92381703e-01],\n",
       "       [-8.66855635e-01,  7.52467746e-01],\n",
       "       [ 1.24999148e+00,  1.37867156e+00],\n",
       "       [-1.32879762e+00,  3.27518480e-01],\n",
       "       [ 4.93020527e-01,  1.21615971e-01],\n",
       "       [ 1.31328970e-01,  8.03818929e-01],\n",
       "       [ 1.37178519e+00,  7.70442080e-01],\n",
       "       [ 4.64235277e-02, -7.28196674e-01]])"
      ]
     },
     "execution_count": 78,
     "metadata": {},
     "output_type": "execute_result"
    }
   ],
   "source": [
    "# generate the points, compute the mean\n",
    "np.random.randn(500, 2)"
   ]
  },
  {
   "cell_type": "code",
   "execution_count": 80,
   "metadata": {},
   "outputs": [
    {
     "data": {
      "text/plain": [
       "array([0.01427977, 0.00427916])"
      ]
     },
     "execution_count": 80,
     "metadata": {},
     "output_type": "execute_result"
    }
   ],
   "source": [
    "#compute the mean\n",
    "points = np.random.randn(500,2)\n",
    "mean = points.mean(axis=0)\n",
    "mean"
   ]
  },
  {
   "cell_type": "code",
   "execution_count": 87,
   "metadata": {},
   "outputs": [
    {
     "data": {
      "text/plain": [
       "<matplotlib.legend.Legend at 0x2074f9203c8>"
      ]
     },
     "execution_count": 87,
     "metadata": {},
     "output_type": "execute_result"
    },
    {
     "data": {
      "image/png": "[encoded data removed]",
      "text/plain": [
       "<Figure size 432x288 with 1 Axes>"
      ]
     },
     "metadata": {},
     "output_type": "display_data"
    }
   ],
   "source": [
    "# display the points, make the axis equal\n",
    "# display the mean as a big red dot\n",
    "# add the title and the x/y labels and the legend\n",
    "plt.plot(points[:,0], points[:, 1], '.', color='blue', ls='none')\n",
    "plt.axis('equal') #to ensure the axes align\n",
    "plt.plot(mean[0], mean[1], 'o', color='red', markersize=10)\n",
    "plt.title('Visualising random normal samples')\n",
    "plt.legend(['Random points', 'Mean'], loc='best')\n"
   ]
  },
  {
   "cell_type": "code",
   "execution_count": null,
   "metadata": {},
   "outputs": [],
   "source": []
  }
 ],
 "metadata": {
  "kernelspec": {
   "display_name": "Python 3",
   "language": "python",
   "name": "python3"
  },
  "language_info": {
   "codemirror_mode": {
    "name": "ipython",
    "version": 3
   },
   "file_extension": ".py",
   "mimetype": "text/x-python",
   "name": "python",
   "nbconvert_exporter": "python",
   "pygments_lexer": "ipython3",
   "version": "3.6.5"
  }
 },
 "nbformat": 4,
 "nbformat_minor": 2
}
