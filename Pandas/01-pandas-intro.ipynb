{
 "cells": [
  {
   "cell_type": "markdown",
   "metadata": {},
   "source": [
    "# Pandas"
   ]
  },
  {
   "cell_type": "markdown",
   "metadata": {},
   "source": [
    "In this notebook, we introduce you to Pandas which provides data structures and analysis tools for Data Science. Much of what we'll cover here involves the DataFrame data structure. As before, refer to documentation as and when you need to: https://pandas.pydata.org/"
   ]
  },
  {
   "cell_type": "markdown",
   "metadata": {},
   "source": [
    "## Getting started with Pandas\n",
    "\n",
    "Start by loading the `pandas` library (with alias `pd`)."
   ]
  },
  {
   "cell_type": "code",
   "execution_count": 1,
   "metadata": {},
   "outputs": [],
   "source": [
    "# import the library\n",
    "import pandas as pd\n"
   ]
  },
  {
   "cell_type": "markdown",
   "metadata": {},
   "source": [
    "Load the provided dataset `data/airfoil.csv` using the [`pd.read_csv()`](https://pandas.pydata.org/pandas-docs/stable/generated/pandas.read_csv.html) function; call the DataFrame you load `df`."
   ]
  },
  {
   "cell_type": "code",
   "execution_count": 2,
   "metadata": {},
   "outputs": [],
   "source": [
    "# load the dataframe, use \"head\" to have a look\n",
    "df = pd.read_csv(\"data/airfoil.csv\")\n"
   ]
  },
  {
   "cell_type": "markdown",
   "metadata": {},
   "source": [
    "Note that this `read_csv()` function is very flexible and can accomodate all sorts of file. \n",
    "You will do this in much more details in module 2.\n",
    "For now, we're giving you a nicely formatted dataset that directly works well with Pandas."
   ]
  },
  {
   "cell_type": "markdown",
   "metadata": {},
   "source": [
    "`df` is a pandas DataFrame object. DataFrame objects have many methods and attributes which make data science easier! Use the `.head()` method to show what `df` looks like."
   ]
  },
  {
   "cell_type": "code",
   "execution_count": 3,
   "metadata": {},
   "outputs": [
    {
     "data": {
      "text/html": [
       "<div>\n",
       "<style scoped>\n",
       "    .dataframe tbody tr th:only-of-type {\n",
       "        vertical-align: middle;\n",
       "    }\n",
       "\n",
       "    .dataframe tbody tr th {\n",
       "        vertical-align: top;\n",
       "    }\n",
       "\n",
       "    .dataframe thead th {\n",
       "        text-align: right;\n",
       "    }\n",
       "</style>\n",
       "<table border=\"1\" class=\"dataframe\">\n",
       "  <thead>\n",
       "    <tr style=\"text-align: right;\">\n",
       "      <th></th>\n",
       "      <th>Frequency [Hz]</th>\n",
       "      <th>Angle [deg]</th>\n",
       "      <th>Chord length [m]</th>\n",
       "      <th>FS velocity [m/s]</th>\n",
       "      <th>SSD thickness [m]</th>\n",
       "      <th>Sound pressure [dB]</th>\n",
       "    </tr>\n",
       "  </thead>\n",
       "  <tbody>\n",
       "    <tr>\n",
       "      <th>0</th>\n",
       "      <td>800</td>\n",
       "      <td>0.0</td>\n",
       "      <td>0.3048</td>\n",
       "      <td>71.3</td>\n",
       "      <td>0.002663</td>\n",
       "      <td>126.201</td>\n",
       "    </tr>\n",
       "    <tr>\n",
       "      <th>1</th>\n",
       "      <td>1000</td>\n",
       "      <td>0.0</td>\n",
       "      <td>0.3048</td>\n",
       "      <td>71.3</td>\n",
       "      <td>0.002663</td>\n",
       "      <td>125.201</td>\n",
       "    </tr>\n",
       "    <tr>\n",
       "      <th>2</th>\n",
       "      <td>1250</td>\n",
       "      <td>0.0</td>\n",
       "      <td>0.3048</td>\n",
       "      <td>71.3</td>\n",
       "      <td>0.002663</td>\n",
       "      <td>125.951</td>\n",
       "    </tr>\n",
       "    <tr>\n",
       "      <th>3</th>\n",
       "      <td>1600</td>\n",
       "      <td>0.0</td>\n",
       "      <td>0.3048</td>\n",
       "      <td>71.3</td>\n",
       "      <td>0.002663</td>\n",
       "      <td>127.591</td>\n",
       "    </tr>\n",
       "    <tr>\n",
       "      <th>4</th>\n",
       "      <td>2000</td>\n",
       "      <td>0.0</td>\n",
       "      <td>0.3048</td>\n",
       "      <td>71.3</td>\n",
       "      <td>0.002663</td>\n",
       "      <td>127.461</td>\n",
       "    </tr>\n",
       "  </tbody>\n",
       "</table>\n",
       "</div>"
      ],
      "text/plain": [
       "   Frequency [Hz]  Angle [deg]  Chord length [m]  FS velocity [m/s]  \\\n",
       "0             800          0.0            0.3048               71.3   \n",
       "1            1000          0.0            0.3048               71.3   \n",
       "2            1250          0.0            0.3048               71.3   \n",
       "3            1600          0.0            0.3048               71.3   \n",
       "4            2000          0.0            0.3048               71.3   \n",
       "\n",
       "   SSD thickness [m]  Sound pressure [dB]  \n",
       "0           0.002663              126.201  \n",
       "1           0.002663              125.201  \n",
       "2           0.002663              125.951  \n",
       "3           0.002663              127.591  \n",
       "4           0.002663              127.461  "
      ]
     },
     "execution_count": 3,
     "metadata": {},
     "output_type": "execute_result"
    }
   ],
   "source": [
    "# Use .head() on df\n",
    "df.head()\n"
   ]
  },
  {
   "cell_type": "markdown",
   "metadata": {},
   "source": [
    "Let's load another dataset into another dataframe and call it `smalldf`. The data is located at `data/smalldata.csv`. \n",
    "\n",
    "First, have a look at the data yourself. If you're on a unix system, you can do this from the command line like this:"
   ]
  },
  {
   "cell_type": "code",
   "execution_count": 4,
   "metadata": {},
   "outputs": [
    {
     "name": "stderr",
     "output_type": "stream",
     "text": [
      "'cat' is not recognized as an internal or external command,\n",
      "operable program or batch file.\n"
     ]
    }
   ],
   "source": [
    "# Edit this if you're on Windows\n",
    "!cat data/smalldata.csv  # note that this cell is runnable inside the notebook!"
   ]
  },
  {
   "cell_type": "markdown",
   "metadata": {},
   "source": [
    "See what happens if you just run pd.read_csv() on it"
   ]
  },
  {
   "cell_type": "code",
   "execution_count": 5,
   "metadata": {},
   "outputs": [
    {
     "data": {
      "text/html": [
       "<div>\n",
       "<style scoped>\n",
       "    .dataframe tbody tr th:only-of-type {\n",
       "        vertical-align: middle;\n",
       "    }\n",
       "\n",
       "    .dataframe tbody tr th {\n",
       "        vertical-align: top;\n",
       "    }\n",
       "\n",
       "    .dataframe thead th {\n",
       "        text-align: right;\n",
       "    }\n",
       "</style>\n",
       "<table border=\"1\" class=\"dataframe\">\n",
       "  <thead>\n",
       "    <tr style=\"text-align: right;\">\n",
       "      <th></th>\n",
       "      <th>F1</th>\n",
       "      <th>F2</th>\n",
       "      <th>F3</th>\n",
       "      <th>ID</th>\n",
       "    </tr>\n",
       "  </thead>\n",
       "  <tbody>\n",
       "    <tr>\n",
       "      <th>0</th>\n",
       "      <td>15</td>\n",
       "      <td>70</td>\n",
       "      <td>M</td>\n",
       "      <td>Bob</td>\n",
       "    </tr>\n",
       "    <tr>\n",
       "      <th>1</th>\n",
       "      <td>18</td>\n",
       "      <td>50</td>\n",
       "      <td>F</td>\n",
       "      <td>Alice</td>\n",
       "    </tr>\n",
       "    <tr>\n",
       "      <th>2</th>\n",
       "      <td>15</td>\n",
       "      <td>55</td>\n",
       "      <td>F</td>\n",
       "      <td>Maria</td>\n",
       "    </tr>\n",
       "    <tr>\n",
       "      <th>3</th>\n",
       "      <td>12</td>\n",
       "      <td>85</td>\n",
       "      <td>M</td>\n",
       "      <td>John</td>\n",
       "    </tr>\n",
       "    <tr>\n",
       "      <th>4</th>\n",
       "      <td>14</td>\n",
       "      <td>68</td>\n",
       "      <td>M</td>\n",
       "      <td>Kevin</td>\n",
       "    </tr>\n",
       "    <tr>\n",
       "      <th>5</th>\n",
       "      <td>20</td>\n",
       "      <td>110</td>\n",
       "      <td>M</td>\n",
       "      <td>Donald</td>\n",
       "    </tr>\n",
       "  </tbody>\n",
       "</table>\n",
       "</div>"
      ],
      "text/plain": [
       "   F1   F2 F3      ID\n",
       "0  15   70  M     Bob\n",
       "1  18   50  F   Alice\n",
       "2  15   55  F   Maria\n",
       "3  12   85  M    John\n",
       "4  14   68  M   Kevin\n",
       "5  20  110  M  Donald"
      ]
     },
     "execution_count": 5,
     "metadata": {},
     "output_type": "execute_result"
    }
   ],
   "source": [
    "# read it with pandas (don't save it, just allow it to print)\n",
    "pd.read_csv('data/smalldata.csv')\n"
   ]
  },
  {
   "cell_type": "markdown",
   "metadata": {},
   "source": [
    "DataFrames have column names and an index. Import the csv and save it as a DataFrame called `smalldf`. Check the documentation (or google!) and:\n",
    "* make the column names: `['Age', 'Weight', 'Gender', 'Name']`\n",
    "* specify `name` as the index\n",
    "\n",
    "Display `smalldf` in the notebook and check it against what you did above."
   ]
  },
  {
   "cell_type": "code",
   "execution_count": 6,
   "metadata": {},
   "outputs": [
    {
     "data": {
      "text/html": [
       "<div>\n",
       "<style scoped>\n",
       "    .dataframe tbody tr th:only-of-type {\n",
       "        vertical-align: middle;\n",
       "    }\n",
       "\n",
       "    .dataframe tbody tr th {\n",
       "        vertical-align: top;\n",
       "    }\n",
       "\n",
       "    .dataframe thead th {\n",
       "        text-align: right;\n",
       "    }\n",
       "</style>\n",
       "<table border=\"1\" class=\"dataframe\">\n",
       "  <thead>\n",
       "    <tr style=\"text-align: right;\">\n",
       "      <th></th>\n",
       "      <th>Age</th>\n",
       "      <th>Weight</th>\n",
       "      <th>Gender</th>\n",
       "    </tr>\n",
       "    <tr>\n",
       "      <th>Name</th>\n",
       "      <th></th>\n",
       "      <th></th>\n",
       "      <th></th>\n",
       "    </tr>\n",
       "  </thead>\n",
       "  <tbody>\n",
       "    <tr>\n",
       "      <th>Bob</th>\n",
       "      <td>15</td>\n",
       "      <td>70</td>\n",
       "      <td>M</td>\n",
       "    </tr>\n",
       "    <tr>\n",
       "      <th>Alice</th>\n",
       "      <td>18</td>\n",
       "      <td>50</td>\n",
       "      <td>F</td>\n",
       "    </tr>\n",
       "    <tr>\n",
       "      <th>Maria</th>\n",
       "      <td>15</td>\n",
       "      <td>55</td>\n",
       "      <td>F</td>\n",
       "    </tr>\n",
       "    <tr>\n",
       "      <th>John</th>\n",
       "      <td>12</td>\n",
       "      <td>85</td>\n",
       "      <td>M</td>\n",
       "    </tr>\n",
       "    <tr>\n",
       "      <th>Kevin</th>\n",
       "      <td>14</td>\n",
       "      <td>68</td>\n",
       "      <td>M</td>\n",
       "    </tr>\n",
       "    <tr>\n",
       "      <th>Donald</th>\n",
       "      <td>20</td>\n",
       "      <td>110</td>\n",
       "      <td>M</td>\n",
       "    </tr>\n",
       "  </tbody>\n",
       "</table>\n",
       "</div>"
      ],
      "text/plain": [
       "        Age  Weight Gender\n",
       "Name                      \n",
       "Bob      15      70      M\n",
       "Alice    18      50      F\n",
       "Maria    15      55      F\n",
       "John     12      85      M\n",
       "Kevin    14      68      M\n",
       "Donald   20     110      M"
      ]
     },
     "execution_count": 6,
     "metadata": {},
     "output_type": "execute_result"
    }
   ],
   "source": [
    "# add your code here to load smalldf\n",
    "smalldf = pd.read_csv(\"data/smalldata.csv\",\n",
    "                      names=['Age', 'Weight', 'Gender', 'Name'],\n",
    "                      index_col='Name', \n",
    "                      skiprows=1)\n",
    "smalldf\n"
   ]
  },
  {
   "cell_type": "markdown",
   "metadata": {},
   "source": [
    "### Retrieving some basic information\n",
    "\n",
    "Now that you have a DataFrame object you can explore it (by typing `df.<TAB>` in a cell, you'll see all the methods and attributes)!\n",
    "\n",
    "Examples of useful attributes:\n",
    "\n",
    "* `shape` stores the dimensions of the data frame\n",
    "* `columns` stores the names of the columns \n",
    "* `index` stores the names of the rows, by default pandas uses a range from 0 to the number of rows\n",
    "* `dtypes` stores the `dtype` of each column\n",
    "\n",
    "Show all of those, check it matches what you expected versus the output of `head` used earlier.\n",
    "\n",
    "You can also use `df.describe()` to get a \"description\" of your data (per column, a number of standard statistics such as the mean, variance etc)."
   ]
  },
  {
   "cell_type": "code",
   "execution_count": 7,
   "metadata": {},
   "outputs": [
    {
     "name": "stdout",
     "output_type": "stream",
     "text": [
      ">> Shape attr:\n",
      "(1503, 6)\n",
      "\n",
      ">> Columns:\n",
      "Index(['Frequency [Hz]', 'Angle [deg]', 'Chord length [m]',\n",
      "       'FS velocity [m/s]', 'SSD thickness [m]', 'Sound pressure [dB]'],\n",
      "      dtype='object')\n",
      "\n",
      ">> Index:\n",
      "RangeIndex(start=0, stop=1503, step=1)\n",
      "\n",
      ">> Dtypes:\n",
      "Frequency [Hz]           int64\n",
      "Angle [deg]            float64\n",
      "Chord length [m]       float64\n",
      "FS velocity [m/s]      float64\n",
      "SSD thickness [m]      float64\n",
      "Sound pressure [dB]    float64\n",
      "dtype: object\n"
     ]
    }
   ],
   "source": [
    "# add your code here to explore df's attributes\n",
    "print(\">> Shape attr:\\n{}\".format(df.shape))\n",
    "print(\"\\n>> Columns:\\n{}\".format(df.columns))\n",
    "print(\"\\n>> Index:\\n{}\".format(df.index))\n",
    "print(\"\\n>> Dtypes:\\n{}\".format(df.dtypes))\n"
   ]
  },
  {
   "cell_type": "code",
   "execution_count": 8,
   "metadata": {},
   "outputs": [
    {
     "data": {
      "text/html": [
       "<div>\n",
       "<style scoped>\n",
       "    .dataframe tbody tr th:only-of-type {\n",
       "        vertical-align: middle;\n",
       "    }\n",
       "\n",
       "    .dataframe tbody tr th {\n",
       "        vertical-align: top;\n",
       "    }\n",
       "\n",
       "    .dataframe thead th {\n",
       "        text-align: right;\n",
       "    }\n",
       "</style>\n",
       "<table border=\"1\" class=\"dataframe\">\n",
       "  <thead>\n",
       "    <tr style=\"text-align: right;\">\n",
       "      <th></th>\n",
       "      <th>Frequency [Hz]</th>\n",
       "      <th>Angle [deg]</th>\n",
       "      <th>Chord length [m]</th>\n",
       "      <th>FS velocity [m/s]</th>\n",
       "      <th>SSD thickness [m]</th>\n",
       "      <th>Sound pressure [dB]</th>\n",
       "    </tr>\n",
       "  </thead>\n",
       "  <tbody>\n",
       "    <tr>\n",
       "      <th>count</th>\n",
       "      <td>1503.000000</td>\n",
       "      <td>1503.000000</td>\n",
       "      <td>1503.000000</td>\n",
       "      <td>1503.000000</td>\n",
       "      <td>1503.000000</td>\n",
       "      <td>1503.000000</td>\n",
       "    </tr>\n",
       "    <tr>\n",
       "      <th>mean</th>\n",
       "      <td>2886.380572</td>\n",
       "      <td>6.782302</td>\n",
       "      <td>0.136548</td>\n",
       "      <td>50.860745</td>\n",
       "      <td>0.011140</td>\n",
       "      <td>124.835943</td>\n",
       "    </tr>\n",
       "    <tr>\n",
       "      <th>std</th>\n",
       "      <td>3152.573137</td>\n",
       "      <td>5.918128</td>\n",
       "      <td>0.093541</td>\n",
       "      <td>15.572784</td>\n",
       "      <td>0.013150</td>\n",
       "      <td>6.898657</td>\n",
       "    </tr>\n",
       "    <tr>\n",
       "      <th>min</th>\n",
       "      <td>200.000000</td>\n",
       "      <td>0.000000</td>\n",
       "      <td>0.025400</td>\n",
       "      <td>31.700000</td>\n",
       "      <td>0.000401</td>\n",
       "      <td>103.380000</td>\n",
       "    </tr>\n",
       "    <tr>\n",
       "      <th>25%</th>\n",
       "      <td>800.000000</td>\n",
       "      <td>2.000000</td>\n",
       "      <td>0.050800</td>\n",
       "      <td>39.600000</td>\n",
       "      <td>0.002535</td>\n",
       "      <td>120.191000</td>\n",
       "    </tr>\n",
       "    <tr>\n",
       "      <th>50%</th>\n",
       "      <td>1600.000000</td>\n",
       "      <td>5.400000</td>\n",
       "      <td>0.101600</td>\n",
       "      <td>39.600000</td>\n",
       "      <td>0.004957</td>\n",
       "      <td>125.721000</td>\n",
       "    </tr>\n",
       "    <tr>\n",
       "      <th>75%</th>\n",
       "      <td>4000.000000</td>\n",
       "      <td>9.900000</td>\n",
       "      <td>0.228600</td>\n",
       "      <td>71.300000</td>\n",
       "      <td>0.015576</td>\n",
       "      <td>129.995500</td>\n",
       "    </tr>\n",
       "    <tr>\n",
       "      <th>max</th>\n",
       "      <td>20000.000000</td>\n",
       "      <td>22.200000</td>\n",
       "      <td>0.304800</td>\n",
       "      <td>71.300000</td>\n",
       "      <td>0.058411</td>\n",
       "      <td>140.987000</td>\n",
       "    </tr>\n",
       "  </tbody>\n",
       "</table>\n",
       "</div>"
      ],
      "text/plain": [
       "       Frequency [Hz]  Angle [deg]  Chord length [m]  FS velocity [m/s]  \\\n",
       "count     1503.000000  1503.000000       1503.000000        1503.000000   \n",
       "mean      2886.380572     6.782302          0.136548          50.860745   \n",
       "std       3152.573137     5.918128          0.093541          15.572784   \n",
       "min        200.000000     0.000000          0.025400          31.700000   \n",
       "25%        800.000000     2.000000          0.050800          39.600000   \n",
       "50%       1600.000000     5.400000          0.101600          39.600000   \n",
       "75%       4000.000000     9.900000          0.228600          71.300000   \n",
       "max      20000.000000    22.200000          0.304800          71.300000   \n",
       "\n",
       "       SSD thickness [m]  Sound pressure [dB]  \n",
       "count        1503.000000          1503.000000  \n",
       "mean            0.011140           124.835943  \n",
       "std             0.013150             6.898657  \n",
       "min             0.000401           103.380000  \n",
       "25%             0.002535           120.191000  \n",
       "50%             0.004957           125.721000  \n",
       "75%             0.015576           129.995500  \n",
       "max             0.058411           140.987000  "
      ]
     },
     "execution_count": 8,
     "metadata": {},
     "output_type": "execute_result"
    }
   ],
   "source": [
    "# use `df.describe()`\n",
    "df.describe()\n"
   ]
  },
  {
   "cell_type": "markdown",
   "metadata": {},
   "source": [
    "## Accessing elements in a dataframe\n",
    "\n",
    "Let's get the value of the 1st column (`Age`) of the 3rd row (`Maria`) of `smalldf`. This can be done in many ways, the most convenient to you will depend on situation:\n",
    "\n",
    "1. using `iloc`\n",
    "1. using `loc`\n",
    "1. each column of a `DataFrame` is a `Series` object: you can first get this then access relevant element\n",
    "\n",
    "Try each of these methods below.\n",
    "\n",
    "**Note**: remember that indexing in Python starts at 0."
   ]
  },
  {
   "cell_type": "code",
   "execution_count": 9,
   "metadata": {},
   "outputs": [
    {
     "name": "stdout",
     "output_type": "stream",
     "text": [
      "1. 15\n",
      "2. 15\n",
      "3. 15\n"
     ]
    }
   ],
   "source": [
    "# add your code here\n",
    "print(\"1. {}\".format(smalldf.iloc[2, 0]))\n",
    "print(\"2. {}\".format(smalldf.loc['Maria', 'Age']))\n",
    "print(\"3. {}\".format(smalldf['Age'][2]))\n"
   ]
  },
  {
   "cell_type": "markdown",
   "metadata": {},
   "source": [
    "### Using loc for fancy selections\n",
    "\n",
    "Using `.loc`, can you retrieve the sub-dataframe of `df` with all the columns whose name has strictly more than 15 characters? Call this `df2`."
   ]
  },
  {
   "cell_type": "code",
   "execution_count": 10,
   "metadata": {},
   "outputs": [
    {
     "data": {
      "text/html": [
       "<div>\n",
       "<style scoped>\n",
       "    .dataframe tbody tr th:only-of-type {\n",
       "        vertical-align: middle;\n",
       "    }\n",
       "\n",
       "    .dataframe tbody tr th {\n",
       "        vertical-align: top;\n",
       "    }\n",
       "\n",
       "    .dataframe thead th {\n",
       "        text-align: right;\n",
       "    }\n",
       "</style>\n",
       "<table border=\"1\" class=\"dataframe\">\n",
       "  <thead>\n",
       "    <tr style=\"text-align: right;\">\n",
       "      <th></th>\n",
       "      <th>Chord length [m]</th>\n",
       "      <th>FS velocity [m/s]</th>\n",
       "      <th>SSD thickness [m]</th>\n",
       "      <th>Sound pressure [dB]</th>\n",
       "    </tr>\n",
       "  </thead>\n",
       "  <tbody>\n",
       "    <tr>\n",
       "      <th>0</th>\n",
       "      <td>0.3048</td>\n",
       "      <td>71.3</td>\n",
       "      <td>0.002663</td>\n",
       "      <td>126.201</td>\n",
       "    </tr>\n",
       "    <tr>\n",
       "      <th>1</th>\n",
       "      <td>0.3048</td>\n",
       "      <td>71.3</td>\n",
       "      <td>0.002663</td>\n",
       "      <td>125.201</td>\n",
       "    </tr>\n",
       "    <tr>\n",
       "      <th>2</th>\n",
       "      <td>0.3048</td>\n",
       "      <td>71.3</td>\n",
       "      <td>0.002663</td>\n",
       "      <td>125.951</td>\n",
       "    </tr>\n",
       "    <tr>\n",
       "      <th>3</th>\n",
       "      <td>0.3048</td>\n",
       "      <td>71.3</td>\n",
       "      <td>0.002663</td>\n",
       "      <td>127.591</td>\n",
       "    </tr>\n",
       "    <tr>\n",
       "      <th>4</th>\n",
       "      <td>0.3048</td>\n",
       "      <td>71.3</td>\n",
       "      <td>0.002663</td>\n",
       "      <td>127.461</td>\n",
       "    </tr>\n",
       "  </tbody>\n",
       "</table>\n",
       "</div>"
      ],
      "text/plain": [
       "   Chord length [m]  FS velocity [m/s]  SSD thickness [m]  Sound pressure [dB]\n",
       "0            0.3048               71.3           0.002663              126.201\n",
       "1            0.3048               71.3           0.002663              125.201\n",
       "2            0.3048               71.3           0.002663              125.951\n",
       "3            0.3048               71.3           0.002663              127.591\n",
       "4            0.3048               71.3           0.002663              127.461"
      ]
     },
     "execution_count": 10,
     "metadata": {},
     "output_type": "execute_result"
    }
   ],
   "source": [
    "# add your code here\n",
    "df2 = df.loc[:, [e for e in df.columns if len(e)>15]]\n",
    "df2.head()\n"
   ]
  },
  {
   "cell_type": "markdown",
   "metadata": {},
   "source": [
    "Using `to_csv`, output `df2` as a tab separated file (not comma) and call the file `airfoil_2.dat`.\n",
    "(Open the file in an editor to check it matches what you expect)."
   ]
  },
  {
   "cell_type": "code",
   "execution_count": 11,
   "metadata": {},
   "outputs": [],
   "source": [
    "df2.to_csv(\"airfoil_2.dat\", sep='\\t')"
   ]
  },
  {
   "cell_type": "markdown",
   "metadata": {},
   "source": [
    "### Working with a pd.Series\n",
    "\n",
    "Retrieve the series corresponding to the sound pressure from the dataframe, display\n",
    "\n",
    "* show the name of the series (it should be `Sound pressure [dB]`)\n",
    "* show the shape of the series (it should be `(1503,)`) \n",
    "* the mean and the median (resp. `124.84` and `125.72`)\n",
    "* the mean of the squared values (it should be `15631.57`)\n",
    "* Check [the documentation](https://pandas.pydata.org/pandas-docs/stable/generated/pandas.Series.html) and try some other methods and attributes"
   ]
  },
  {
   "cell_type": "code",
   "execution_count": 12,
   "metadata": {},
   "outputs": [
    {
     "name": "stdout",
     "output_type": "stream",
     "text": [
      "Name: Sound pressure [dB]\n",
      "Shape: (1503,)\n",
      "Mean: 124.84, Median: 125.72\n",
      "Mean of sq. vals: 15631.57\n"
     ]
    }
   ],
   "source": [
    "# add your code here\n",
    "sp = df['Sound pressure [dB]']\n",
    "print(\"Name: {}\".format(sp.name))\n",
    "print(\"Shape: {}\".format(sp.shape))\n",
    "print(\"Mean: {0:.2f}, Median: {1:.2f}\".format(sp.mean(), sp.median()))\n",
    "print(\"Mean of sq. vals: {0:.2f}\".format((sp**2).mean()))\n"
   ]
  },
  {
   "cell_type": "markdown",
   "metadata": {},
   "source": [
    "### Getting the raw values\n",
    "\n",
    "It can sometimes be useful to access the elements of a dataframe as a raw numpy array. For this you simply need to call the `.values` attribute on a series or attribute. \n",
    "\n",
    "* retrieve a raw array containing the sound pressures\n",
    "* retrieve a raw array containing the frequencies and the sound pressures (watch the type inference!)"
   ]
  },
  {
   "cell_type": "code",
   "execution_count": 13,
   "metadata": {},
   "outputs": [
    {
     "name": "stdout",
     "output_type": "stream",
     "text": [
      "[126.201 125.201 125.951 ... 106.604 106.224 104.204]\n",
      "[[ 800.     126.201]\n",
      " [1000.     125.201]\n",
      " [1250.     125.951]\n",
      " ...\n",
      " [4000.     106.604]\n",
      " [5000.     106.224]\n",
      " [6300.     104.204]]\n"
     ]
    }
   ],
   "source": [
    "# add your code here\n",
    "print(df['Sound pressure [dB]'].values)\n",
    "\n",
    "print(df[['Frequency [Hz]', 'Sound pressure [dB]']].values)\n"
   ]
  },
  {
   "cell_type": "markdown",
   "metadata": {},
   "source": [
    "### (Bonus) Joining dataframes\n",
    "\n",
    "Check the pandas documentation on the [.join method](https://pandas.pydata.org/pandas-docs/stable/generated/pandas.DataFrame.join.html) to work out how to join `smalldf` with the following data:\n",
    "\n",
    "```\n",
    "{'Salary': [100, 150, 110, 90, 105, 500], 'Education': [5, 10, 7, 3, 4, 0]}\n",
    "```"
   ]
  },
  {
   "cell_type": "code",
   "execution_count": 14,
   "metadata": {},
   "outputs": [
    {
     "data": {
      "text/html": [
       "<div>\n",
       "<style scoped>\n",
       "    .dataframe tbody tr th:only-of-type {\n",
       "        vertical-align: middle;\n",
       "    }\n",
       "\n",
       "    .dataframe tbody tr th {\n",
       "        vertical-align: top;\n",
       "    }\n",
       "\n",
       "    .dataframe thead th {\n",
       "        text-align: right;\n",
       "    }\n",
       "</style>\n",
       "<table border=\"1\" class=\"dataframe\">\n",
       "  <thead>\n",
       "    <tr style=\"text-align: right;\">\n",
       "      <th></th>\n",
       "      <th>Age</th>\n",
       "      <th>Weight</th>\n",
       "      <th>Gender</th>\n",
       "      <th>Salary</th>\n",
       "      <th>Education</th>\n",
       "    </tr>\n",
       "    <tr>\n",
       "      <th>Name</th>\n",
       "      <th></th>\n",
       "      <th></th>\n",
       "      <th></th>\n",
       "      <th></th>\n",
       "      <th></th>\n",
       "    </tr>\n",
       "  </thead>\n",
       "  <tbody>\n",
       "    <tr>\n",
       "      <th>Bob</th>\n",
       "      <td>15</td>\n",
       "      <td>70</td>\n",
       "      <td>M</td>\n",
       "      <td>100</td>\n",
       "      <td>5</td>\n",
       "    </tr>\n",
       "    <tr>\n",
       "      <th>Alice</th>\n",
       "      <td>18</td>\n",
       "      <td>50</td>\n",
       "      <td>F</td>\n",
       "      <td>150</td>\n",
       "      <td>10</td>\n",
       "    </tr>\n",
       "    <tr>\n",
       "      <th>Maria</th>\n",
       "      <td>15</td>\n",
       "      <td>55</td>\n",
       "      <td>F</td>\n",
       "      <td>110</td>\n",
       "      <td>7</td>\n",
       "    </tr>\n",
       "    <tr>\n",
       "      <th>John</th>\n",
       "      <td>12</td>\n",
       "      <td>85</td>\n",
       "      <td>M</td>\n",
       "      <td>90</td>\n",
       "      <td>3</td>\n",
       "    </tr>\n",
       "    <tr>\n",
       "      <th>Kevin</th>\n",
       "      <td>14</td>\n",
       "      <td>68</td>\n",
       "      <td>M</td>\n",
       "      <td>105</td>\n",
       "      <td>4</td>\n",
       "    </tr>\n",
       "  </tbody>\n",
       "</table>\n",
       "</div>"
      ],
      "text/plain": [
       "       Age  Weight Gender  Salary  Education\n",
       "Name                                        \n",
       "Bob     15      70      M     100          5\n",
       "Alice   18      50      F     150         10\n",
       "Maria   15      55      F     110          7\n",
       "John    12      85      M      90          3\n",
       "Kevin   14      68      M     105          4"
      ]
     },
     "execution_count": 14,
     "metadata": {},
     "output_type": "execute_result"
    }
   ],
   "source": [
    "# add your code here\n",
    "# the index *must* be specified\n",
    "otherdf = pd.DataFrame({'Salary': [100, 150, 110, 90, 105, 500], \n",
    "                        'Education': [5, 10, 7, 3, 4, 0]}, \n",
    "                        index=smalldf.index)\n",
    "\n",
    "completedf = smalldf.join(otherdf)\n",
    "completedf.head()\n"
   ]
  }
 ],
 "metadata": {
  "kernelspec": {
   "display_name": "Python 3",
   "language": "python",
   "name": "python3"
  },
  "language_info": {
   "codemirror_mode": {
    "name": "ipython",
    "version": 3
   },
   "file_extension": ".py",
   "mimetype": "text/x-python",
   "name": "python",
   "nbconvert_exporter": "python",
   "pygments_lexer": "ipython3",
   "version": "3.6.5"
  }
 },
 "nbformat": 4,
 "nbformat_minor": 2
}
