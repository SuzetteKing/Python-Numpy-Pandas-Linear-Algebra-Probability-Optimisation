{
 "cells": [
  {
   "cell_type": "markdown",
   "metadata": {},
   "source": [
    "# Linear Algebra"
   ]
  },
  {
   "cell_type": "code",
   "execution_count": 1,
   "metadata": {},
   "outputs": [],
   "source": [
    "import numpy as np\n",
    "import matplotlib.pyplot as plt"
   ]
  },
  {
   "cell_type": "markdown",
   "metadata": {},
   "source": [
    "## Basic linear algebra with Numpy\n",
    "\n",
    "To create arrays of random elements, you can use `np.random.randn()` for example. This is convenient to get arrays full of values just to check how operations work. \n",
    "\n",
    "**NOTE**: It can be useful to set the seed for the pseudorandom number generator. This allows you to reproduce resuls involving a random number generator. For example, if you and your neighbour do both execute the following code:\n",
    "```python\n",
    "np.random.seed(1234)\n",
    "np.random.rand()\n",
    "```\n",
    "you will see exactly the same result: `0.1915194503788923`"
   ]
  },
  {
   "cell_type": "markdown",
   "metadata": {},
   "source": [
    "Set the random seed as `1337` and use `np.random.randn()` to create 3 objects:\n",
    "* two numpy vectors, `v` and `w`, with `10` elements\n",
    "* and a square numpy array `M` of `10x10` elements."
   ]
  },
  {
   "cell_type": "code",
   "execution_count": 2,
   "metadata": {},
   "outputs": [
    {
     "data": {
      "text/plain": [
       "(array([-0.70318731, -0.49028236, -0.32181433, -1.75507872,  0.20666447,\n",
       "        -2.01126457, -0.55725071,  0.33721701,  1.54883597, -1.37073656]),\n",
       " array([ 1.4252914 , -0.27946391, -0.55962791,  1.18638337,  1.69851891,\n",
       "        -1.69122016, -0.69952284,  0.58296284,  0.97822263, -1.21737211]),\n",
       " array([[-1.32939545e+00, -1.45474227e-03, -1.31465268e+00,\n",
       "         -3.79611743e-01,  1.26521065e+00,  1.20667744e-01,\n",
       "          1.47941778e-01, -2.75372579e+00, -3.56896324e-01,\n",
       "          7.71783656e-03],\n",
       "        [ 1.47827716e+00, -9.57614629e-01,  1.32900811e+00,\n",
       "         -9.85849630e-01,  4.71557202e-01, -8.74652950e-03,\n",
       "          3.67018689e-01,  1.11855474e+00, -8.38993512e-03,\n",
       "          4.66315379e-01],\n",
       "        [ 1.26326870e+00, -9.01654654e-01, -1.02884269e+00,\n",
       "          5.69678421e-01,  6.41664780e-01,  2.59811930e-01,\n",
       "          1.19317814e+00, -1.04630036e+00,  1.39888921e-01,\n",
       "         -1.73065584e+00],\n",
       "        [-1.30623116e-01, -1.31026002e+00, -2.17131242e+00,\n",
       "         -1.06618141e+00, -3.31618443e-02,  1.46639575e+00,\n",
       "          8.76643096e-01,  6.69989580e-01,  6.97449511e-01,\n",
       "         -2.52785434e-01],\n",
       "        [ 5.67987107e-01,  3.04387858e-01, -1.00002960e+00,\n",
       "         -2.45641783e+00,  2.52307022e-01,  7.63120424e-01,\n",
       "         -1.58345465e+00,  1.98042282e-01,  8.52522298e-02,\n",
       "          6.40507750e-01],\n",
       "        [-7.90658155e-01,  7.71182395e-01, -1.95067777e+00,\n",
       "         -1.29401021e+00, -1.07352377e+00,  3.06910919e-02,\n",
       "          7.74109345e-01, -8.71396303e-01,  1.66344014e-01,\n",
       "          6.35789777e-01],\n",
       "        [ 1.08167197e+00, -2.82773662e-01,  1.55478794e+00,\n",
       "         -8.58308135e-01, -2.79650432e-01, -8.54234325e-02,\n",
       "         -2.19597647e-01, -2.17359887e+00,  9.06332427e-01,\n",
       "          7.50338575e-01],\n",
       "        [-5.75259737e-01, -3.68953224e-01,  7.65748246e-01,\n",
       "         -1.10066159e+00,  7.33829660e-01, -3.15740222e-02,\n",
       "         -1.27394186e+00,  3.30358651e-01, -5.42515179e-01,\n",
       "         -1.05202857e+00],\n",
       "        [-7.75720653e-01, -1.23228165e-01, -5.36931271e-01,\n",
       "          1.65373406e-01,  8.99855721e-01,  1.25719599e+00,\n",
       "          1.15406861e+00, -6.74225801e-01,  8.83266671e-01,\n",
       "         -1.80074100e+00],\n",
       "        [ 3.15524021e-01, -2.98942433e-01,  9.23266706e-01,\n",
       "         -8.64610423e-01,  9.06323896e-01,  1.43665365e-01,\n",
       "         -4.28784038e-01,  4.36334858e-02, -1.15963013e+00,\n",
       "         -1.44581716e-01]]))"
      ]
     },
     "execution_count": 2,
     "metadata": {},
     "output_type": "execute_result"
    }
   ],
   "source": [
    "# Set a random seed and create v, w, and M\n",
    "# \"seed\" the random number generator => everyone gets the same results\n",
    "np.random.seed(1337)\n",
    "\n",
    "# create vectors and matrices to test things out\n",
    "v  = np.random.randn(10)\n",
    "w  = np.random.randn(10)\n",
    "M  = np.random.randn(10, 10)\n",
    "\n",
    "v, w, M\n"
   ]
  },
  {
   "cell_type": "markdown",
   "metadata": {},
   "source": [
    "### Norms and inner products\n",
    "\n",
    "* compute the (0,1 and 2) norm of `v` using `np.linalg.norm`\n",
    "* compute these norms 'manually' (i.e. use the formula as opposed to `np.linalg.norm`) and check that you get the same results\n",
    "* compute $\\langle v,w\\rangle$ using a sum (like the mathematical formula) and check against `np.dot`\n",
    "* compute $\\langle v,v \\rangle$ using `np.dot`, compare it with $\\|v\\|_2^2$ (the L2 norm squared)\n",
    "\n",
    "N.B. There are different ways to do dot products using numpy:\n",
    "\n",
    "```python\n",
    "np.dot(v, w)  # using a function\n",
    "v @ w  # an operator\n",
    "v.dot(w)  # or a method\n",
    "```"
   ]
  },
  {
   "cell_type": "code",
   "execution_count": 3,
   "metadata": {},
   "outputs": [
    {
     "name": "stdout",
     "output_type": "stream",
     "text": [
      "0-norm: 10.00\n",
      "1-norm: 9.30\n",
      "2-norm: 3.56\n",
      "\n",
      "-- manually --\n",
      "0-norm: 10.00\n",
      "1-norm: 9.30\n",
      "2-norm: 3.56\n",
      "\n",
      "-- dot prod --\n",
      "error1: 8.88e-16\n",
      "effectively equal? True\n",
      "error2: 0.00e+00\n",
      "effectively equal? True\n"
     ]
    }
   ],
   "source": [
    "# add your code here to compute the norms of v using linalg\n",
    "for ii in range(3):\n",
    "    print(\"{0}-norm: {1:.2f}\".format(ii, np.linalg.norm(v, ii)))\n",
    "\n",
    "# add your code here to compute the norms manually and check\n",
    "\n",
    "print(\"\\n-- manually --\")\n",
    "# (v != 0) is a vector of trues/falses, sum counts the number of trues.\n",
    "print(\"0-norm: {0:.2f}\".format((v != 0).sum()))\n",
    "print(\"1-norm: {0:.2f}\".format((np.abs(v)).sum()))\n",
    "# **2 means \"squared\", on a numpy array it squares all entries\n",
    "print(\"2-norm: {0:.2f}\".format(np.sqrt(((v**2).sum()))))\n",
    "\n",
    "# add your code here to compute <v, w> and compare with np.dot\n",
    "print(\"\\n-- dot prod --\")\n",
    "lhs = np.dot(v, w) # <v, w>\n",
    "rhs = sum(v[ii]*w[ii] for ii in range(len(v))) # explicit computation of <v, w>\n",
    "# the difference should be tiny\n",
    "e1 = np.abs(lhs - rhs)\n",
    "print(\"error1: {0:.2e}\".format(e1)) \n",
    "print(\"effectively equal? {}\".format(np.allclose(lhs, rhs)))\n",
    "\n",
    "# add your code here to compute <v,v> and compare with the norm\n",
    "lhs = np.dot(v, v) # <v, v>\n",
    "rhs = np.linalg.norm(v)**2 # sum of squared entries\n",
    "# the difference should be tiny\n",
    "e2 = np.abs(lhs - rhs)\n",
    "print(\"error2: {0:.2e}\".format(e2))\n",
    "print(\"effectively equal? {}\".format(np.allclose(lhs, rhs)))\n",
    "\n"
   ]
  },
  {
   "cell_type": "markdown",
   "metadata": {},
   "source": [
    "### Cosine similarity\n",
    "\n",
    "Write a short function (or lambda) taking two vectors and returning the cosine similarity. It is computed as\n",
    "\n",
    "$$c_\\text{sim}(x,y) := {\\langle x, y \\rangle \\over \\|x\\|_2\\|y\\|_2}$$\n",
    "\n",
    "This is also defined as $c_\\text{sim}(x,y) = cos(\\theta)$ where $\\theta$ is the angle between the vectors. Given this information, what is the range of possible values?"
   ]
  },
  {
   "cell_type": "code",
   "execution_count": 4,
   "metadata": {},
   "outputs": [],
   "source": [
    "# add your code here to define the cossim function\n",
    "def cossim(x, y):\n",
    "    numerator = np.dot(x, y)\n",
    "    denominator = np.linalg.norm(x) * np.linalg.norm(y)\n",
    "    return numerator / denominator\n"
   ]
  },
  {
   "cell_type": "markdown",
   "metadata": {},
   "source": [
    "Then consider the four points $\\{(5,7),(3,8),(-2,1.5),(0,-3)\\}$ and the corresponding vectors (from the origin). Display those points with a large marker and display a line connecting them to the origin `(0, 0)`. \n",
    "Call them $x_1,\\dots,x_4$ using the `label` option of `plt.plot`. \n",
    "\n",
    "* add a legend\n",
    "* make the axes have the same scale (\"axis equal\")"
   ]
  },
  {
   "cell_type": "code",
   "execution_count": 5,
   "metadata": {},
   "outputs": [
    {
     "name": "stdout",
     "output_type": "stream",
     "text": [
      "[[ 0.   0. ]\n",
      " [ 5.   7. ]\n",
      " [ 3.   8. ]\n",
      " [-2.   1.5]\n",
      " [ 0.  -3. ]]\n"
     ]
    },
    {
     "data": {
      "image/png": "[encoded data removed]",
      "text/plain": [
       "<Figure size 432x288 with 1 Axes>"
      ]
     },
     "metadata": {},
     "output_type": "display_data"
    }
   ],
   "source": [
    "# define the points, display them, add a legend and equalise the axes\n",
    "x1  = np.array([5, 7])\n",
    "x2  = np.array([3, 8])\n",
    "x3  = np.array([-2, 1.5])\n",
    "x4  = np.array([0, -3])\n",
    "# make one matrix out of these points, the first point being the origin\n",
    "pts = np.vstack((np.zeros(2), x1, x2, x3, x4))\n",
    "print(pts)\n",
    "\n",
    "# display the vectors, for each point, they go from (0, 0) to the point\n",
    "for ii in range(1, 5):\n",
    "    plt.plot(\n",
    "        pts[[0, ii], 0],\n",
    "        pts[[0, ii], 1], \n",
    "        marker='o', label=\"x{}\".format(ii))\n",
    "\n",
    "plt.legend()\n",
    "\n",
    "plt.axis('equal')\n",
    "plt.show()\n"
   ]
  },
  {
   "cell_type": "markdown",
   "metadata": {},
   "source": [
    "Finally, compute the cosine similarity between $x_1$ and all the other vectors:\n",
    "\n",
    "* $c_\\text{sim}(x_1,x_2)$\n",
    "* $c_\\text{sim}(x_1,x_3)$\n",
    "* $c_\\text{sim}(x_1,x_4)$\n",
    "\n",
    "Look at the plot above and verify that these numbers make sense. Think about the the angle between the vectors $\\theta$ (check the definition above if stuck)."
   ]
  },
  {
   "cell_type": "code",
   "execution_count": 6,
   "metadata": {},
   "outputs": [
    {
     "name": "stdout",
     "output_type": "stream",
     "text": [
      "Cosine similarity between x1 and x2: 0.97 (~ aligned)\n",
      "Cosine similarity between x1 and x3: 0.02 (~ orthogonal)\n",
      "Cosine similarity between x1 and x4: -0.81 (~ anti-aligned)\n"
     ]
    }
   ],
   "source": [
    "# add your code here to display the cosine similarities\n",
    "print(\"Cosine similarity between x1 and x2: {0:.2f} (~ aligned)\".format(cossim(x1,x2)))\n",
    "print(\"Cosine similarity between x1 and x3: {0:.2f} (~ orthogonal)\".format(cossim(x1,x3)))\n",
    "print(\"Cosine similarity between x1 and x4: {0:.2f} (~ anti-aligned)\".format(cossim(x1,x4)))\n"
   ]
  },
  {
   "cell_type": "markdown",
   "metadata": {},
   "source": [
    "### Basic matrix vector operations\n",
    "\n",
    "* Compute $M^tv$ explicitly using a sum and compare using `.T` (transpose) and `np.dot`\n",
    "* Show that the $i^{th}$ value of product $Mv$ equals the dot product of the $i^{th}$ row of $M$ with $v$\n",
    "    * in other words that $(Mv)_i = \\langle M_{i,:}, v \\rangle$ for some $i$ (use `np.random.randint` to generate an index)\n",
    "* Similarly show that $(M^tv)_i = \\langle M_{:,i}, v \\rangle$ for some $i$\n",
    "\n",
    "*The aim of this exercise is to familiarise yourself with the links between linear algebra formulas and how they are coded. If you struggle a bit through these exercises, don't worry and come back to them in your own time. We strongly recommend you do them by hand first.*\n",
    "\n",
    "**Note**: remember that to check if two vectors $x$ and $z$ are close, you can compute $\\|x-z\\|$ and it should be small!"
   ]
  },
  {
   "cell_type": "code",
   "execution_count": 7,
   "metadata": {},
   "outputs": [
    {
     "name": "stdout",
     "output_type": "stream",
     "text": [
      "error1: 1.03e-15\n",
      "error2: 4.44e-16\n",
      "error3: 1.11e-16\n"
     ]
    }
   ],
   "source": [
    "# add your code to compute M^tv explicitly and compare\n",
    "r = np.zeros(len(v))\n",
    "\n",
    "for col in range(len(v)):\n",
    "    for row in range(len(v)):\n",
    "        # whatch the ordering due to transpose\n",
    "        r[col] += M[row, col] * v[row]\n",
    "    \n",
    "r_direct = np.dot(M.T, v)\n",
    "\n",
    "# r and r_direct should be identical. So the norm of their difference\n",
    "# should be tiny (~ the zero vector). \n",
    "e1 = np.linalg.norm(r_direct - r)\n",
    "print(\"error1: {0:.2e}\".format(e1))\n",
    "\n",
    "# add your code to compare (Mv)_i with <M_i:, v> for some i\n",
    "# let's pick an i at random\n",
    "i  = np.random.randint(len(v))\n",
    "lhs = np.dot(M[i,:], v) # <M_i:, v>\n",
    "rhs = np.dot(M, v)[i]   # (Mv)_i\n",
    "e2 = np.abs(lhs - rhs)\n",
    "print(\"error2: {0:.2e}\".format(e2))\n",
    "\n",
    "# add your code to compare (M^tv)_i with <M_:i, v> for some i\n",
    "# pick an i at random\n",
    "i  = np.random.randint(len(v))\n",
    "lhs = np.dot(M[:,i], v) # <M_:i, v>\n",
    "rhs = np.dot(M.T, v)[i] # (M^tv)_i\n",
    "e2 = np.abs(lhs - rhs)\n",
    "print(\"error3: {0:.2e}\".format(e2))\n"
   ]
  }
 ],
 "metadata": {
  "kernelspec": {
   "display_name": "Python 3",
   "language": "python",
   "name": "python3"
  },
  "language_info": {
   "codemirror_mode": {
    "name": "ipython",
    "version": 3
   },
   "file_extension": ".py",
   "mimetype": "text/x-python",
   "name": "python",
   "nbconvert_exporter": "python",
   "pygments_lexer": "ipython3",
   "version": "3.6.5"
  }
 },
 "nbformat": 4,
 "nbformat_minor": 2
}
